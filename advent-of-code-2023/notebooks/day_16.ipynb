{
 "cells": [
  {
   "cell_type": "code",
   "execution_count": 1,
   "metadata": {},
   "outputs": [
    {
     "data": {
      "text/plain": [
       "['\\\\./....\\\\../......................|............../-.......|....................|....../|\\\\..../.............\\\\...',\n",
       " '...........|.-.............|.././........../........................./...........||.....................-....\\\\',\n",
       " '...............\\\\.............-...................-............/.|...|.......-...............................-.',\n",
       " '.......................................\\\\..|-.../\\\\....../.........|............/...|.....-.|...........\\\\...|...',\n",
       " '............/.-..|...\\\\........|...........-......................\\\\.........-........\\\\....../....|.........|...']"
      ]
     },
     "execution_count": 1,
     "metadata": {},
     "output_type": "execute_result"
    }
   ],
   "source": [
    "f = open(\"..\\data\\day_16.txt\", \"r\")\n",
    "data = list(f)\n",
    "data = [line.rstrip() for line in data]\n",
    "data[:5]"
   ]
  },
  {
   "cell_type": "code",
   "execution_count": 2,
   "metadata": {},
   "outputs": [],
   "source": [
    "# Data processing\n",
    "\n",
    "len(data[0]) == len(data)\n",
    "\n",
    "start_position = (0,0)\n",
    "start_direction = (0,1)"
   ]
  },
  {
   "cell_type": "code",
   "execution_count": 3,
   "metadata": {},
   "outputs": [
    {
     "data": {
      "text/plain": [
       "110"
      ]
     },
     "execution_count": 3,
     "metadata": {},
     "output_type": "execute_result"
    }
   ],
   "source": [
    "len(data)"
   ]
  },
  {
   "cell_type": "code",
   "execution_count": 4,
   "metadata": {},
   "outputs": [],
   "source": [
    "def generate_new_positions(position, direction, tile):\n",
    "    new_directions = []\n",
    "    new_positions = []\n",
    "    if tile == '.' or (tile == '|' and direction in [(1,0), (-1,0)]) or (tile == '-' and direction in [(0,1), (0,-1)]):\n",
    "        new_directions.append(direction)\n",
    "    elif tile == '/':\n",
    "        if direction == (0,1):\n",
    "            new_directions.append((-1,0))\n",
    "        elif direction == (-1,0):\n",
    "            new_directions.append((0,1))\n",
    "        elif direction == (0,-1):\n",
    "            new_directions.append((1,0))\n",
    "        elif direction == (1,0):\n",
    "            new_directions.append((0,-1))\n",
    "    elif tile == '\\\\':\n",
    "        if direction == (0,1):\n",
    "            new_directions.append((1,0))\n",
    "        elif direction == (1,0):\n",
    "            new_directions.append((0,1))\n",
    "        elif direction == (0,-1):\n",
    "            new_directions.append((-1,0))\n",
    "        elif direction == (-1,0):\n",
    "            new_directions.append((0,-1))\n",
    "    elif tile == '|':\n",
    "            new_directions.append((1,0))\n",
    "            new_directions.append((-1,0))\n",
    "    elif tile == '-':\n",
    "            new_directions.append((0,1))\n",
    "            new_directions.append((0,-1))\n",
    "    \n",
    "    for d in new_directions:\n",
    "        x = position[0] + d[0]\n",
    "        y = position[1] + d[1]\n",
    "        if (x>=0 and x<len(data)) and (y>=0 and y<len(data)):\n",
    "            new_positions.append((x, y))\n",
    "\n",
    "    return new_positions, new_directions"
   ]
  },
  {
   "cell_type": "code",
   "execution_count": 5,
   "metadata": {},
   "outputs": [
    {
     "name": "stdout",
     "output_type": "stream",
     "text": [
      "CPU times: total: 0 ns\n",
      "Wall time: 7.57 ms\n"
     ]
    },
    {
     "data": {
      "text/plain": [
       "7210"
      ]
     },
     "execution_count": 5,
     "metadata": {},
     "output_type": "execute_result"
    }
   ],
   "source": [
    "%%time\n",
    "# Part 1\n",
    "#\n",
    "\n",
    "def part_1(start_position, start_direction): \n",
    "    to_check = []\n",
    "    visited = set()\n",
    "\n",
    "    to_check.append((start_position,start_direction))\n",
    "\n",
    "    while to_check:\n",
    "        current_info = to_check.pop()\n",
    "        if current_info in visited:\n",
    "            continue\n",
    "        else:\n",
    "            visited.add(current_info)\n",
    "        position, direction = current_info\n",
    "        tile = data[position[0]][position[1]]\n",
    "\n",
    "        new_positions, new_directions = generate_new_positions(position, direction, tile)\n",
    "        for i in range(len(new_positions)):\n",
    "            to_check.append((new_positions[i], new_directions[i]))\n",
    "        \n",
    "\n",
    "    only_pos = set()\n",
    "    for v in visited:\n",
    "        only_pos.add(v[0])\n",
    "    return len(only_pos)\n",
    "\n",
    "part_1(start_position, start_direction)"
   ]
  },
  {
   "cell_type": "code",
   "execution_count": 6,
   "metadata": {},
   "outputs": [
    {
     "name": "stdout",
     "output_type": "stream",
     "text": [
      "7673\n",
      "CPU times: total: 391 ms\n",
      "Wall time: 1 s\n"
     ]
    }
   ],
   "source": [
    "%%time\n",
    "# Part 2\n",
    "#\n",
    "start_positions = []\n",
    "start_directions = []\n",
    "\n",
    "for i in range(len(data)):\n",
    "    start_positions.append((i,0))\n",
    "    start_directions.append((0,1))\n",
    "    start_positions.append((i,len(data)-1))\n",
    "    start_directions.append((0,-1))\n",
    "    start_positions.append((0,i))\n",
    "    start_directions.append((-1,0))\n",
    "    start_positions.append((len(data)-1,i))\n",
    "    start_directions.append((1,0))\n",
    "\n",
    "solution_2 = []\n",
    "for n in range(len(start_positions)):\n",
    "    solution_2.append(part_1(start_positions[n], start_directions[n]))\n",
    "print(max(solution_2))"
   ]
  }
 ],
 "metadata": {
  "kernelspec": {
   "display_name": "Python 3",
   "language": "python",
   "name": "python3"
  },
  "language_info": {
   "codemirror_mode": {
    "name": "ipython",
    "version": 3
   },
   "file_extension": ".py",
   "mimetype": "text/x-python",
   "name": "python",
   "nbconvert_exporter": "python",
   "pygments_lexer": "ipython3",
   "version": "3.11.7"
  }
 },
 "nbformat": 4,
 "nbformat_minor": 2
}

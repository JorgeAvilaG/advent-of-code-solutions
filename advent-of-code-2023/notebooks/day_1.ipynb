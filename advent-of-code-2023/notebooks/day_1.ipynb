{
 "cells": [
  {
   "cell_type": "code",
   "execution_count": 1,
   "metadata": {},
   "outputs": [
    {
     "data": {
      "text/plain": [
       "['kjrqmzv9mmtxhgvsevenhvq7',\n",
       " 'four2tszbgmxpbvninebxns6nineqbqzgjpmpqr',\n",
       " 'rkzlnmzgnk91zckqprrptnthreefourtwo',\n",
       " 'fouronevzkbnzm6seven47',\n",
       " 'zphgdcznqsm2']"
      ]
     },
     "execution_count": 1,
     "metadata": {},
     "output_type": "execute_result"
    }
   ],
   "source": [
    "f = open(\"..\\data\\day_1.txt\", \"r\")\n",
    "data = list(f)\n",
    "data = [line.rstrip() for line in data]\n",
    "data[:5]"
   ]
  },
  {
   "cell_type": "code",
   "execution_count": 2,
   "metadata": {},
   "outputs": [
    {
     "name": "stdout",
     "output_type": "stream",
     "text": [
      "55447\n"
     ]
    }
   ],
   "source": [
    "# Part 1\n",
    "numbers = '0123456789'\n",
    "solution_part_1 = 0\n",
    "\n",
    "for line in data:\n",
    "    sol = ''\n",
    "    for car in line:\n",
    "        if car in numbers:\n",
    "            sol += car\n",
    "            break\n",
    "    for n in range(len(line)-1,-1,-1):\n",
    "        if line[n] in numbers:\n",
    "            sol += line[n]\n",
    "            break\n",
    "    solution_part_1 += int(sol)\n",
    "\n",
    "print(solution_part_1)"
   ]
  },
  {
   "cell_type": "code",
   "execution_count": 3,
   "metadata": {},
   "outputs": [
    {
     "name": "stdout",
     "output_type": "stream",
     "text": [
      "54706\n"
     ]
    }
   ],
   "source": [
    "# part 2\n",
    "numbers = '0123456789'\n",
    "numbers2 = {'one': '1', 'two': '2', 'three': '3', 'four': '4', 'five': '5', 'six': '6', 'seven': '7', 'eight': '8', 'nine': '9'}\n",
    "\n",
    "solution_part_2 = 0\n",
    "\n",
    "for line in data:\n",
    "    sol = ''\n",
    "    positions = []\n",
    "    for numb in numbers:\n",
    "        pos = line.find(numb)\n",
    "        if pos != -1:\n",
    "            positions.append((pos, numb))\n",
    "        pos = line.rfind(numb)\n",
    "        if pos != -1:\n",
    "            positions.append((pos, numb))\n",
    "    for numb in numbers2.keys():\n",
    "        pos = line.find(numb)\n",
    "        if pos != -1:\n",
    "            positions.append((pos, numbers2[numb]))\n",
    "        pos = line.rfind(numb)\n",
    "        if pos != -1:\n",
    "            positions.append((pos, numbers2[numb]))\n",
    "    positions = sorted(positions)\n",
    "    sol += positions[0][1]\n",
    "    sol += positions[-1][1]\n",
    "    solution_part_2 += int(sol)\n",
    "print(solution_part_2)\n"
   ]
  }
 ],
 "metadata": {
  "kernelspec": {
   "display_name": "Python 3",
   "language": "python",
   "name": "python3"
  },
  "language_info": {
   "codemirror_mode": {
    "name": "ipython",
    "version": 3
   },
   "file_extension": ".py",
   "mimetype": "text/x-python",
   "name": "python",
   "nbconvert_exporter": "python",
   "pygments_lexer": "ipython3",
   "version": "3.11.6"
  }
 },
 "nbformat": 4,
 "nbformat_minor": 2
}

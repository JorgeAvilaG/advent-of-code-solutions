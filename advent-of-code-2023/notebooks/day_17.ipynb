{
 "cells": [
  {
   "cell_type": "code",
   "execution_count": 1,
   "metadata": {},
   "outputs": [
    {
     "data": {
      "text/plain": [
       "['234224446511352516455541135325314531634727166622143245766763225647632451765767416671144613511443236745711614774573513156356624145646555245245',\n",
       " '212322435323514544553641367363253666612634513752244741772464882587283261185481663234173466116432233354744314723223443226616466142554244615221',\n",
       " '154152563214532244465661223532752765765536752111625474845637887368476118636565287714213441214743556752653777372231566152665555565542223661132',\n",
       " '525351545121363546115654612131231624245142132533745467388828681775578761357857745526314153768275636564561457571644657123363231241411332326452',\n",
       " '522114653525543314412571231775375576521726522526173787746687625733216838476458572461735582761552332354146473113664476437323544256213653465312']"
      ]
     },
     "execution_count": 1,
     "metadata": {},
     "output_type": "execute_result"
    }
   ],
   "source": [
    "f = open(\"..\\data\\day_17.txt\", \"r\")\n",
    "data = list(f)\n",
    "data = [line.rstrip() for line in data]\n",
    "data[:5]"
   ]
  },
  {
   "cell_type": "code",
   "execution_count": 2,
   "metadata": {},
   "outputs": [],
   "source": [
    "# Data processing\n",
    "\n",
    "pro_data = [list(map(int,list(line))) for line in data]\n"
   ]
  },
  {
   "cell_type": "code",
   "execution_count": 3,
   "metadata": {},
   "outputs": [
    {
     "name": "stdout",
     "output_type": "stream",
     "text": [
      "1120\n",
      "end 902\n",
      "902\n",
      "902\n"
     ]
    }
   ],
   "source": [
    "import heapq as heap\n",
    "\n",
    "max_heat = 0\n",
    "max_heat += sum(pro_data[0])\n",
    "for line in pro_data:\n",
    "    max_heat += line[-1]\n",
    "\n",
    "print(max_heat)\n",
    "\n",
    "Dir = {\n",
    "    0: (-1,0), # north\n",
    "    1: (0,1), # right\n",
    "    2: (1,0), # down\n",
    "    3: (0,-1), # left\n",
    "}\n",
    "\n",
    "len_data = len(pro_data)\n",
    "\n",
    "visited = {}\n",
    "to_check = []\n",
    "\n",
    "end = (len_data-1, len_data-1)\n",
    "#to_check.append((((0,1), 1, 1,), 3))\n",
    "heap.heappush(to_check, (3, ((0,1), 1, 1,)))\n",
    "#to_check.append((((1,0), 2, 1,), 2))\n",
    "heap.heappush(to_check, (2, ((1,0), 2, 1,)))\n",
    "\n",
    "while to_check:\n",
    "    heat, info = heap.heappop(to_check)\n",
    "    position, direction, streak = info\n",
    "    if heat >= max_heat:\n",
    "        continue\n",
    "    if info in visited:\n",
    "        if visited[info] <= heat:\n",
    "            continue\n",
    "    visited[info] = heat\n",
    "\n",
    "    if position == end:\n",
    "        print('end', heat)\n",
    "        if heat < max_heat:\n",
    "            max_heat = heat\n",
    "            print(max_heat)\n",
    "        continue\n",
    "\n",
    "    if streak < 3:\n",
    "        new_pos = (position[0] + Dir[direction][0], position[1] + Dir[direction][1]) \n",
    "        if (new_pos[0] >=0 and new_pos[0] < len_data) and (new_pos[1] >=0 and new_pos[1] < len_data):\n",
    "            new_dir = direction\n",
    "            new_str = streak + 1\n",
    "            new_heat = heat + pro_data[new_pos[0]][new_pos[1]]\n",
    "            if not ((new_pos, new_dir, new_str) in visited):\n",
    "                heap.heappush(to_check, (new_heat, (new_pos, new_dir, new_str)))\n",
    "                \n",
    "\n",
    "    new_dir = (direction+1)%4\n",
    "    new_pos = (position[0] + Dir[new_dir][0], position[1] + Dir[new_dir][1]) \n",
    "    if (new_pos[0] >=0 and new_pos[0] < len_data) and (new_pos[1] >=0 and new_pos[1] < len_data):\n",
    "        new_str = 1\n",
    "        new_heat = heat + pro_data[new_pos[0]][new_pos[1]]\n",
    "        if not ((new_pos, new_dir, new_str) in visited):\n",
    "                heap.heappush(to_check, (new_heat, (new_pos, new_dir, new_str)))\n",
    "    \n",
    "    new_dir = (direction-1)%4\n",
    "    new_pos = (position[0] + Dir[new_dir][0], position[1] + Dir[new_dir][1]) \n",
    "    if (new_pos[0] >=0 and new_pos[0] < len_data) and (new_pos[1] >=0 and new_pos[1] < len_data):\n",
    "        new_str = 1\n",
    "        new_heat = heat + pro_data[new_pos[0]][new_pos[1]]\n",
    "        if not ((new_pos, new_dir, new_str) in visited):\n",
    "                heap.heappush(to_check, (new_heat, (new_pos, new_dir, new_str)))\n",
    "\n",
    "print(max_heat)    \n",
    "        "
   ]
  },
  {
   "cell_type": "code",
   "execution_count": 4,
   "metadata": {},
   "outputs": [
    {
     "name": "stdout",
     "output_type": "stream",
     "text": [
      "1120\n",
      "end 1073\n",
      "1073\n",
      "1073\n"
     ]
    }
   ],
   "source": [
    "### Part 2\n",
    "from collections import defaultdict\n",
    "\n",
    "max_heat = 0\n",
    "max_heat += sum(pro_data[0])\n",
    "for line in pro_data:\n",
    "    max_heat += line[-1]\n",
    "\n",
    "print(max_heat)\n",
    "\n",
    "Dir = {\n",
    "    0: (-1,0), # north\n",
    "    1: (0,1), # right\n",
    "    2: (1,0), # down\n",
    "    3: (0,-1), # left\n",
    "}\n",
    "\n",
    "len_data = len(pro_data)\n",
    "\n",
    "#visited = {}\n",
    "visited= defaultdict(lambda: float('inf'))\n",
    "to_check = []\n",
    "end = (len_data-1, len_data-1)\n",
    "#to_check.append((((0,1), 1, 1,), 3))\n",
    "heap.heappush(to_check, (3, ((0,1), 1, 1,)))\n",
    "#to_check.append((((1,0), 2, 1,), 2))\n",
    "heap.heappush(to_check, (2, ((1,0), 2, 1,)))\n",
    "\n",
    "while to_check:\n",
    "    heat, info = heap.heappop(to_check)\n",
    "    \n",
    "    position, direction, streak = info\n",
    "    if heat >= max_heat:\n",
    "        continue\n",
    "    #if info in visited:\n",
    "    if visited[info] <= heat:\n",
    "        continue\n",
    "    visited[info] = heat\n",
    "\n",
    "    if position == end:\n",
    "        print('end', heat)\n",
    "        if heat < max_heat:\n",
    "            max_heat = heat\n",
    "            print(max_heat)\n",
    "        continue\n",
    "\n",
    "    if streak < 10:\n",
    "        new_pos = (position[0] + Dir[direction][0], position[1] + Dir[direction][1]) \n",
    "        if (new_pos[0] >=0 and new_pos[0] < len_data) and (new_pos[1] >=0 and new_pos[1] < len_data):\n",
    "            new_dir = direction\n",
    "            new_str = streak + 1\n",
    "            new_heat = heat + pro_data[new_pos[0]][new_pos[1]]\n",
    "            #if not ((new_pos, new_dir, new_str) in visited):\n",
    "                \n",
    "            if visited[(new_pos, new_dir, new_str)] > new_heat:\n",
    "                heap.heappush(to_check, (new_heat, (new_pos, new_dir, new_str)))\n",
    "\n",
    "\n",
    "    if streak >= 4:\n",
    "        new_dir = (direction+1)%4\n",
    "        new_pos = (position[0] + Dir[new_dir][0], position[1] + Dir[new_dir][1]) \n",
    "        if (new_pos[0] >=0 and new_pos[0] < len_data) and (new_pos[1] >=0 and new_pos[1] < len_data):\n",
    "            new_str = 1\n",
    "            new_heat = heat + pro_data[new_pos[0]][new_pos[1]]\n",
    "            if visited[(new_pos, new_dir, new_str)] > new_heat:\n",
    "                heap.heappush(to_check, (new_heat, (new_pos, new_dir, new_str)))\n",
    "        \n",
    "        new_dir = (direction-1)%4\n",
    "        new_pos = (position[0] + Dir[new_dir][0], position[1] + Dir[new_dir][1]) \n",
    "        if (new_pos[0] >=0 and new_pos[0] < len_data) and (new_pos[1] >=0 and new_pos[1] < len_data):\n",
    "            new_str = 1\n",
    "            new_heat = heat + pro_data[new_pos[0]][new_pos[1]]\n",
    "            if visited[(new_pos, new_dir, new_str)] > new_heat:\n",
    "                heap.heappush(to_check, (new_heat, (new_pos, new_dir, new_str)))\n",
    "    \n",
    "print(max_heat)    "
   ]
  }
 ],
 "metadata": {
  "kernelspec": {
   "display_name": "Python 3",
   "language": "python",
   "name": "python3"
  },
  "language_info": {
   "codemirror_mode": {
    "name": "ipython",
    "version": 3
   },
   "file_extension": ".py",
   "mimetype": "text/x-python",
   "name": "python",
   "nbconvert_exporter": "python",
   "pygments_lexer": "ipython3",
   "version": "3.11.7"
  }
 },
 "nbformat": 4,
 "nbformat_minor": 2
}

{
 "cells": [
  {
   "cell_type": "code",
   "execution_count": 1,
   "metadata": {},
   "outputs": [
    {
     "data": {
      "text/plain": [
       "['Time:        45     97     72     95',\n",
       " 'Distance:   305   1062   1110   1695']"
      ]
     },
     "execution_count": 1,
     "metadata": {},
     "output_type": "execute_result"
    }
   ],
   "source": [
    "f = open(\"..\\data\\day_6.txt\", \"r\")\n",
    "data = list(f)\n",
    "data = [line.rstrip() for line in data]\n",
    "data[:5]"
   ]
  },
  {
   "cell_type": "code",
   "execution_count": 2,
   "metadata": {},
   "outputs": [
    {
     "name": "stdout",
     "output_type": "stream",
     "text": [
      "Times: [45, 97, 72, 95]\n",
      "Distances: [305, 1062, 1110, 1695]\n"
     ]
    }
   ],
   "source": [
    "# Data processing\n",
    "times = list(map(int,data[0].split()[1:]))\n",
    "distances = list(map(int,data[1].split()[1:]))\n",
    "print(f'Times: {times}')\n",
    "print(f'Distances: {distances}')"
   ]
  },
  {
   "cell_type": "code",
   "execution_count": 3,
   "metadata": {},
   "outputs": [
    {
     "name": "stdout",
     "output_type": "stream",
     "text": [
      "2612736\n",
      "CPU times: total: 0 ns\n",
      "Wall time: 0 ns\n"
     ]
    }
   ],
   "source": [
    "%%time\n",
    "# Part 1\n",
    "# The number of races is low (4) and the times are low too (< 100). Brute force aproach is fast, just check every posibility.\n",
    "\n",
    "solution_part_1 = 1\n",
    "\n",
    "for i in range(len(times)):\n",
    "    wins = 0\n",
    "    time = times[i]\n",
    "    distance = distances[i]\n",
    "    for seconds in range(time):\n",
    "        if seconds*(time-seconds) > distance:\n",
    "            wins += 1\n",
    "    solution_part_1 *= wins\n",
    "\n",
    "print(solution_part_1)\n",
    "        "
   ]
  },
  {
   "cell_type": "code",
   "execution_count": 4,
   "metadata": {},
   "outputs": [
    {
     "name": "stdout",
     "output_type": "stream",
     "text": [
      "29891250\n",
      "CPU times: total: 812 ms\n",
      "Wall time: 2.82 s\n"
     ]
    }
   ],
   "source": [
    "%%time\n",
    "# Part 2\n",
    "# Just the brute force aproach is fine, not very slow ~ 3s\n",
    "# I included an break condition so it will stock cheacking numbers if it stops winning\n",
    "\n",
    "time = int(''.join(list(map(str, times))))\n",
    "distance = int(''.join(list(map(str, distances))))\n",
    "\n",
    "solution_part_2 = 0\n",
    "\n",
    "wins = 0\n",
    "winning = False\n",
    "for seconds in range(time):\n",
    "    if seconds*(time-seconds) > distance:\n",
    "        winning = True\n",
    "        wins += 1\n",
    "    elif winning:\n",
    "        break\n",
    "solution_part_2 = wins\n",
    "\n",
    "print(solution_part_2)         \n"
   ]
  },
  {
   "cell_type": "code",
   "execution_count": 5,
   "metadata": {},
   "outputs": [
    {
     "name": "stdout",
     "output_type": "stream",
     "text": [
      "29891250\n",
      "CPU times: total: 46.9 ms\n",
      "Wall time: 143 ms\n"
     ]
    }
   ],
   "source": [
    "%%time\n",
    "# Part 2\n",
    "# The optimized aproach can be very fast (100 ms).\n",
    "# We start at an optimized min seconds to achieve that distance. And find only the first and last case where you are able to win.\n",
    "# The wining posibilites are all the times between these 2 extreme cases. Careful to add 1 when you calculate the range! \n",
    "\n",
    "time = int(''.join(list(map(str, times))))\n",
    "distance = int(''.join(list(map(str, distances))))\n",
    "\n",
    "solution_part_2 = 0\n",
    "\n",
    "first_win = 0\n",
    "last_win = 0\n",
    "for seconds in range(round(distance/time), time):\n",
    "    if seconds*(time-seconds) > distance:\n",
    "        first_win = seconds\n",
    "        break\n",
    "for seconds in range(time-round(distance/time), 0, -1):\n",
    "    if seconds*(time-seconds) > distance:\n",
    "        last_win = seconds\n",
    "        break\n",
    "\n",
    "solution_part_2 = last_win-first_win+1\n",
    "\n",
    "print(solution_part_2)         \n"
   ]
  }
 ],
 "metadata": {
  "kernelspec": {
   "display_name": "Python 3",
   "language": "python",
   "name": "python3"
  },
  "language_info": {
   "codemirror_mode": {
    "name": "ipython",
    "version": 3
   },
   "file_extension": ".py",
   "mimetype": "text/x-python",
   "name": "python",
   "nbconvert_exporter": "python",
   "pygments_lexer": "ipython3",
   "version": "3.11.6"
  }
 },
 "nbformat": 4,
 "nbformat_minor": 2
}

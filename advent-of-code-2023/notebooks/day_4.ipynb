{
 "cells": [
  {
   "cell_type": "code",
   "execution_count": 1,
   "metadata": {},
   "outputs": [
    {
     "data": {
      "text/plain": [
<<<<<<< HEAD
       "['Card   1: 77 45  9 81 96  5 91  3 66 76 |  7 56 66 49 96 58 54 34 37  5 14 85 45 91  9 22 81 50 88 77 76  3 83 93 18',\n",
       " 'Card   2: 41 49 12 46 39  9 72 78 24 76 |  3 28 60 82  2 26 67 75 37 72 64 46 54 13 85 20 10  9 18 99 58  4 57 80 25',\n",
       " 'Card   3: 26 93 49 51 21 50 33 69 73 28 | 64 18 76 80 65 89 78 38 37 75 14 91 44 72 94 55 86 98  2  7 99 67 57 93 46',\n",
       " 'Card   4: 75 85 30 17 82 27 51 28 94 90 |  2  6  1 83 65 21 30 70 22 91 11 26 47 95 59 96 89 49  5 16 29 55 64 69 23',\n",
       " 'Card   5: 95 59 90 56 69 67 12 57  6 68 | 61 52 76 69 67 40 31 56 55 90 12 68 32 66  2 95 29  6 22 91 70 35 57 81 59']"
=======
       "['416.........................559...............417...............785.......900.......284...........503...796....992..........................',\n",
       " '.........702*....772............378..569.........&.49..606...14*..............$.453*.........307....*......$.....-.................995......',\n",
       " '.....................458...856......+.........+....&..............680.......104.............%....516.................................*......',\n",
       " '...........822..174..*.....&...........711.746.......&............$....../.............656....#...........265=......634.*.............430...',\n",
       " '..827.137..*...*....39................*..............856..............767........522......$..773....619..............*...287....501.........']"
>>>>>>> dc104c7 (day 4)
      ]
     },
     "execution_count": 1,
     "metadata": {},
     "output_type": "execute_result"
    }
   ],
   "source": [
<<<<<<< HEAD
    "f = open(\"..\\data\\day_4.txt\", \"r\")\n",
=======
    "f = open(\"..\\data\\day_3.txt\", \"r\")\n",
>>>>>>> dc104c7 (day 4)
    "data = list(f)\n",
    "data = [line.rstrip() for line in data]\n",
    "data[:5]"
   ]
  },
  {
   "cell_type": "code",
   "execution_count": 2,
   "metadata": {},
   "outputs": [
    {
<<<<<<< HEAD
     "data": {
      "text/plain": [
       "[[77, 45, 9, 81, 96, 5, 91, 3, 66, 76],\n",
       " [7,\n",
       "  56,\n",
       "  66,\n",
       "  49,\n",
       "  96,\n",
       "  58,\n",
       "  54,\n",
       "  34,\n",
       "  37,\n",
       "  5,\n",
       "  14,\n",
       "  85,\n",
       "  45,\n",
       "  91,\n",
       "  9,\n",
       "  22,\n",
       "  81,\n",
       "  50,\n",
       "  88,\n",
       "  77,\n",
       "  76,\n",
       "  3,\n",
       "  83,\n",
       "  93,\n",
       "  18]]"
      ]
     },
     "execution_count": 2,
     "metadata": {},
     "output_type": "execute_result"
    }
   ],
   "source": [
    "# Data processing\n",
    "\n",
    "pre_data = [line.split(':')[-1].strip() for line in data]\n",
    "pre_data = [[list(map(int,line.split('|')[0].strip().split())), list(map(int,line.split('|')[1].strip().split()))] for line in pre_data]\n",
    "pre_data[0]"
=======
     "name": "stdout",
     "output_type": "stream",
     "text": [
      "533775\n"
     ]
    }
   ],
   "source": [
    "# Part 1\n",
    "# Find the numbers and check in the neighborhood the presence of symbols\n",
    "# Sum only the number that are near symbols\n",
    "\n",
    "numbers = '1234567890'\n",
    "\n",
    "solution_part_1 = 0\n",
    "current_number = False\n",
    "line_number = None\n",
    "f_element_number = None\n",
    "l_element_number = None\n",
    "number = ''\n",
    "\n",
    "def check_neigh(line_number, f_element, l_element):\n",
    "    numbers='1234567890.'\n",
    "    for y in [line_number-1, line_number, line_number+1]:\n",
    "        if (y < 0) or (y == len(data)):\n",
    "            continue\n",
    "        for x in range(f_element-1, l_element+2):\n",
    "            if (x < 0) or (x == len(data[0])):\n",
    "                continue\n",
    "            if data[y][x] not in numbers:\n",
    "                return True\n",
    "    else:\n",
    "        return False\n",
    "\n",
    "for y, line in enumerate(data):\n",
    "    for x, element in enumerate(line):\n",
    "        if element in numbers:\n",
    "            number += element\n",
    "            if current_number == False:\n",
    "                   current_number = True\n",
    "                   f_element_number = x\n",
    "                   line_number = y\n",
    "        else:\n",
    "            if current_number == True:\n",
    "                if x != 0:\n",
    "                    l_element_number = x-1\n",
    "                else:\n",
    "                    l_element_number = len(line)-1\n",
    "                if check_neigh(line_number, f_element_number, l_element_number):\n",
    "                    solution_part_1 += int(number)\n",
    "                current_number = False\n",
    "                line_number = None\n",
    "                f_element_number = None\n",
    "                l_element_number = None\n",
    "                number = ''\n",
    "            \n",
    "\n",
    "print(solution_part_1)\n"
>>>>>>> dc104c7 (day 4)
   ]
  },
  {
   "cell_type": "code",
   "execution_count": 3,
   "metadata": {},
   "outputs": [
    {
     "name": "stdout",
     "output_type": "stream",
     "text": [
<<<<<<< HEAD
      "20407\n"
=======
      "78236071\n"
>>>>>>> dc104c7 (day 4)
     ]
    }
   ],
   "source": [
<<<<<<< HEAD
    "# Part 1\n",
    "# Check if each number is in the winning combination\n",
    "# Remove 1 win to calculate easly the point, -1 after the round is 0 point, and 0 (1 win -1) would means 1 point...\n",
    "\n",
    "solution_part_1 = 0\n",
    "\n",
    "for line in pre_data:\n",
    "    win = 0\n",
    "    win_numbers = set(line[0])\n",
    "    for number in line[1]:\n",
    "        if number in win_numbers:\n",
    "            win += 1\n",
    "    solution_part_1 += round(2**(win-1))\n",
    "\n",
    "print(solution_part_1)\n"
   ]
  },
  {
   "cell_type": "code",
   "execution_count": 4,
   "metadata": {},
   "outputs": [
    {
     "name": "stdout",
     "output_type": "stream",
     "text": [
      "23806951\n"
     ]
    }
   ],
   "source": [
    "# Part 2\n",
    "# We track in a list the amount of cards of each type, initialy only 1 per type\n",
    "# The win numbers are calculated same as part 1\n",
    "# the cards list is updated. The wide of the range is the number of wining numbers, the amount is multiplyed by the amount of the current card\n",
    "\n",
    "cards = [1]*len(pre_data)\n",
    "\n",
    "solution_part_2 = 0\n",
    "\n",
    "for n, line in enumerate(pre_data):\n",
    "    win = 0\n",
    "    win_numbers = set(line[0])\n",
    "    for number in line[1]:\n",
    "        if number in win_numbers:\n",
    "            win += 1\n",
    "    cards[n+1:n+1+win] = [x+1*cards[n] for x in cards[n+1:n+1+win]]\n",
    "solution_part_2 = sum(cards)\n",
=======
    "# part 2\n",
    "# Find the numbers and check in the neighborhood the presence of '*'\n",
    "# Save in a dict the position of the gear and the numbers that are near it\n",
    "# Check the gear in the dict, if the gear has 2 numbers multiply them and add it to the solution\n",
    "\n",
    "numbers = '1234567890'\n",
    "\n",
    "solution_part_2 = 0\n",
    "D = {}\n",
    "\n",
    "current_number = False\n",
    "line_number = None\n",
    "f_element_number = None\n",
    "l_element_number = None\n",
    "number = ''\n",
    "\n",
    "def check_star(line_number, f_element, l_element):\n",
    "    numbers='1234567890.'\n",
    "    for y in [line_number-1, line_number, line_number+1]:\n",
    "        if (y < 0) or (y == len(data)):\n",
    "            continue\n",
    "        for x in range(f_element-1, l_element+2):\n",
    "            if (x < 0) or (x == len(data[0])):\n",
    "                continue\n",
    "            if data[y][x] == '*':\n",
    "                return True, (y, x)\n",
    "    else:\n",
    "        return False, (None, None)\n",
    "\n",
    "for y, line in enumerate(data):\n",
    "    for x, element in enumerate(line):\n",
    "        if element in numbers:\n",
    "            number += element\n",
    "            if current_number == False:\n",
    "                   current_number = True\n",
    "                   f_element_number = x\n",
    "                   line_number = y\n",
    "        else:\n",
    "            if current_number == True:\n",
    "                if x != 0:\n",
    "                    l_element_number = x-1\n",
    "                else:\n",
    "                    l_element_number = len(line)-1\n",
    "                near_star, pos = check_star(line_number, f_element_number, l_element_number)\n",
    "                if near_star:\n",
    "                    if pos not in D:\n",
    "                        D[pos] = []\n",
    "                    D[pos].append(int(number))\n",
    "                current_number = False\n",
    "                line_number = None\n",
    "                f_element_number = None\n",
    "                l_element_number = None\n",
    "                number = ''\n",
    "            \n",
    "for k in D.keys():\n",
    "    if len(D[k]) == 2:\n",
    "        solution_part_2 += D[k][0] * D[k][1]\n",
    "\n",
>>>>>>> dc104c7 (day 4)
    "\n",
    "print(solution_part_2)\n"
   ]
  }
 ],
 "metadata": {
  "kernelspec": {
   "display_name": "Python 3",
   "language": "python",
   "name": "python3"
  },
  "language_info": {
   "codemirror_mode": {
    "name": "ipython",
    "version": 3
   },
   "file_extension": ".py",
   "mimetype": "text/x-python",
   "name": "python",
   "nbconvert_exporter": "python",
   "pygments_lexer": "ipython3",
   "version": "3.11.6"
  }
 },
 "nbformat": 4,
 "nbformat_minor": 2
}

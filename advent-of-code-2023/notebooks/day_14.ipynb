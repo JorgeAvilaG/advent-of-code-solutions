{
 "cells": [
  {
   "cell_type": "code",
   "execution_count": 1,
   "metadata": {},
   "outputs": [
    {
     "data": {
      "text/plain": [
       "['O..#OO..#...O..O#O.O...O##.O#..#O#...O.O.....O..........O..#...#.....O.O.O.O#..O........O...........',\n",
       " '.....O#.#O..OO.#......O.O..#...#..OO..O..###..#...O.#...#..O..O.#..#O...#O...............##O..O....#',\n",
       " '..#...O...OO.#........O......O#O#......O.#OO....OOO..#...O....O.O.O#..#OO.##...OOO#.#.OO.#O.#....O..',\n",
       " '..#...#..#....O...#.#O......O.....#O##.#..#.O..#.....#O.O#...#.......O.....O.##.O.O..#.....O.#.O.OOO',\n",
       " 'O....#..#.O.O..O.#.#....#.#..##O...O#..O.#.O.OOO.O.O..O..............O.#O.O....#..O.O..O..O.O.O.O.O.']"
      ]
     },
     "execution_count": 1,
     "metadata": {},
     "output_type": "execute_result"
    }
   ],
   "source": [
    "f = open(\"..\\data\\day_14.txt\", \"r\")\n",
    "data = list(f)\n",
    "data = [line.rstrip() for line in data]\n",
    "data[:5]"
   ]
  },
  {
   "cell_type": "code",
   "execution_count": 2,
   "metadata": {},
   "outputs": [],
   "source": [
    "# Data processing\n",
    "def transpose(pattern):\n",
    "    new_pattern = []\n",
    "    line = []\n",
    "    for n in range(len(pattern[0])):\n",
    "        for row in pattern:\n",
    "            line.append(row[n])\n",
    "        new_pattern.append(line)\n",
    "        line = []\n",
    "    return new_pattern\n",
    "\n",
    "def move_rocks(data):\n",
    "    new_data = []\n",
    "    for line in data:\n",
    "        rocks = 0\n",
    "        points = 0\n",
    "        new_line = ''\n",
    "        for n, pos in enumerate(line):\n",
    "            if pos == 'O':\n",
    "                rocks += 1\n",
    "            if pos == '.':\n",
    "                points += 1\n",
    "            elif pos == '#':\n",
    "                new_line += 'O'*rocks\n",
    "                new_line  += '.'*points\n",
    "                new_line += '#'\n",
    "                rocks = 0\n",
    "                points = 0\n",
    "        new_line += 'O'*rocks\n",
    "        new_line  += '.'*points\n",
    "        rocks = 0\n",
    "        points = 0\n",
    "        new_data.append(list(new_line))\n",
    "    return new_data\n",
    "\n",
    "def reversing(data):\n",
    "    for line in data:\n",
    "        line.reverse()\n",
    "    return data\n",
    "\n",
    "def cal_points(data):\n",
    "    points = 0\n",
    "    len_data = len(data)\n",
    "    for n, line in enumerate(data):\n",
    "        rocks = line.count('O')\n",
    "        points += rocks*(len_data-n)\n",
    "    return points"
   ]
  },
  {
   "cell_type": "code",
   "execution_count": 3,
   "metadata": {},
   "outputs": [
    {
     "name": "stdout",
     "output_type": "stream",
     "text": [
      "CPU times: total: 0 ns\n",
      "Wall time: 1 ms\n"
     ]
    },
    {
     "data": {
      "text/plain": [
       "106648"
      ]
     },
     "execution_count": 3,
     "metadata": {},
     "output_type": "execute_result"
    }
   ],
   "source": [
    "%%time\n",
    "# Part 1\n",
    "# \n",
    "\n",
    "moved_n = transpose(move_rocks(transpose(data)))\n",
    "cal_points(moved_n)\n",
    "\n",
    "\n"
   ]
  },
  {
   "cell_type": "code",
   "execution_count": 4,
   "metadata": {},
   "outputs": [
    {
     "name": "stdout",
     "output_type": "stream",
     "text": [
      "CPU times: total: 281 ms\n",
      "Wall time: 618 ms\n"
     ]
    }
   ],
   "source": [
    "%%time\n",
    "# Part 2\n",
    "#\n",
    "\n",
    "def cycle(data):\n",
    "    moved_n = transpose(move_rocks(transpose(data)))\n",
    "    moved_o = move_rocks(moved_n)\n",
    "    moved_s = transpose(reversing(move_rocks(reversing(transpose(moved_o)))))\n",
    "    moved_e = reversing(move_rocks(reversing(moved_s)))\n",
    "    return moved_e\n",
    "\n",
    "data_to_cycle = data.copy()\n",
    "points = []\n",
    "points.append(cal_points(data_to_cycle))\n",
    "for _ in range(200):\n",
    "    data_to_cycle = cycle(data_to_cycle)\n",
    "    points.append(cal_points(data_to_cycle))\n"
   ]
  },
  {
   "cell_type": "code",
   "execution_count": 5,
   "metadata": {},
   "outputs": [
    {
     "name": "stdout",
     "output_type": "stream",
     "text": [
      "36\n",
      "87441\n",
      "[87441, 87458, 87473, 87525, 87537, 87556, 87586, 87652, 87659, 87686, 87681, 87680, 87639, 87604, 87561, 87541, 87493, 87466, 87439, 87472, 87475, 87511, 87535, 87570, 87588, 87638, 87657, 87700, 87683, 87666, 87637, 87618, 87563, 87527, 87491, 87480]\n"
     ]
    }
   ],
   "source": [
    "find = False\n",
    "start_pos = 0\n",
    "while not find:\n",
    "    start_pos += 1\n",
    "    wide = 1\n",
    "    n = 0\n",
    "    while not find:\n",
    "        initial = points[start_pos:start_pos+wide]\n",
    "        for i in range(2):\n",
    "            if initial != points[start_pos+i*wide:start_pos+i*wide+wide]:\n",
    "                wide += 1\n",
    "                break\n",
    "        else:\n",
    "            find = True\n",
    "            print(wide)\n",
    "            print(points[start_pos])\n",
    "            print(points[start_pos:start_pos+wide])\n",
    "        if wide > len(points):\n",
    "            break\n"
   ]
  },
  {
   "cell_type": "code",
   "execution_count": 7,
   "metadata": {},
   "outputs": [
    {
     "data": {
      "text/plain": [
       "87700"
      ]
     },
     "execution_count": 7,
     "metadata": {},
     "output_type": "execute_result"
    }
   ],
   "source": [
    "points[start_pos:start_pos+wide][(1000000000-start_pos) % wide]"
   ]
  },
  {
   "cell_type": "code",
   "execution_count": null,
   "metadata": {},
   "outputs": [],
   "source": []
  }
 ],
 "metadata": {
  "kernelspec": {
   "display_name": "Python 3",
   "language": "python",
   "name": "python3"
  },
  "language_info": {
   "codemirror_mode": {
    "name": "ipython",
    "version": 3
   },
   "file_extension": ".py",
   "mimetype": "text/x-python",
   "name": "python",
   "nbconvert_exporter": "python",
   "pygments_lexer": "ipython3",
   "version": "3.11.7"
  }
 },
 "nbformat": 4,
 "nbformat_minor": 2
}

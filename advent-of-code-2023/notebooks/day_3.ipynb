{
 "cells": [
  {
   "cell_type": "code",
   "execution_count": 1,
   "metadata": {},
   "outputs": [
    {
     "data": {
      "text/plain": [
       "['416.........................559...............417...............785.......900.......284...........503...796....992..........................',\n",
       " '.........702*....772............378..569.........&.49..606...14*..............$.453*.........307....*......$.....-.................995......',\n",
       " '.....................458...856......+.........+....&..............680.......104.............%....516.................................*......',\n",
       " '...........822..174..*.....&...........711.746.......&............$....../.............656....#...........265=......634.*.............430...',\n",
       " '..827.137..*...*....39................*..............856..............767........522......$..773....619..............*...287....501.........']"
      ]
     },
     "execution_count": 1,
     "metadata": {},
     "output_type": "execute_result"
    }
   ],
   "source": [
    "f = open(\"..\\data\\day_3.txt\", \"r\")\n",
    "data = list(f)\n",
    "data = [line.rstrip() for line in data]\n",
    "data[:5]"
   ]
  },
  {
   "cell_type": "code",
   "execution_count": 2,
   "metadata": {},
   "outputs": [
    {
     "name": "stdout",
     "output_type": "stream",
     "text": [
      "533775\n"
     ]
    }
   ],
   "source": [
    "# Part 1\n",
    "# Find the numbers and check in the neighborhood the presence of symbols\n",
    "# Sum only the number that are near symbols\n",
    "\n",
    "numbers = '1234567890'\n",
    "\n",
    "solution_part_1 = 0\n",
    "current_number = False\n",
    "line_number = None\n",
    "f_element_number = None\n",
    "l_element_number = None\n",
    "number = ''\n",
    "\n",
    "def check_neigh(line_number, f_element, l_element):\n",
    "    numbers='1234567890.'\n",
    "    for y in [line_number-1, line_number, line_number+1]:\n",
    "        if (y < 0) or (y == len(data)):\n",
    "            continue\n",
    "        for x in range(f_element-1, l_element+2):\n",
    "            if (x < 0) or (x == len(data[0])):\n",
    "                continue\n",
    "            if data[y][x] not in numbers:\n",
    "                return True\n",
    "    else:\n",
    "        return False\n",
    "\n",
    "for y, line in enumerate(data):\n",
    "    for x, element in enumerate(line):\n",
    "        if element in numbers:\n",
    "            number += element\n",
    "            if current_number == False:\n",
    "                   current_number = True\n",
    "                   f_element_number = x\n",
    "                   line_number = y\n",
    "        else:\n",
    "            if current_number == True:\n",
    "                if x != 0:\n",
    "                    l_element_number = x-1\n",
    "                else:\n",
    "                    l_element_number = len(line)-1\n",
    "                if check_neigh(line_number, f_element_number, l_element_number):\n",
    "                    solution_part_1 += int(number)\n",
    "                current_number = False\n",
    "                line_number = None\n",
    "                f_element_number = None\n",
    "                l_element_number = None\n",
    "                number = ''\n",
    "            \n",
    "\n",
    "print(solution_part_1)\n"
   ]
  },
  {
   "cell_type": "code",
   "execution_count": 3,
   "metadata": {},
   "outputs": [
    {
     "name": "stdout",
     "output_type": "stream",
     "text": [
      "78236071\n"
     ]
    }
   ],
   "source": [
    "# part 2\n",
    "# Find the numbers and check in the neighborhood the presence of '*'\n",
    "# Save in a dict the position of the gear and the numbers that are near it\n",
    "# Check the gear in the dict, if the gear has 2 numbers multiply them and add it to the solution\n",
    "\n",
    "numbers = '1234567890'\n",
    "\n",
    "solution_part_2 = 0\n",
    "D = {}\n",
    "\n",
    "current_number = False\n",
    "line_number = None\n",
    "f_element_number = None\n",
    "l_element_number = None\n",
    "number = ''\n",
    "\n",
    "def check_star(line_number, f_element, l_element):\n",
    "    numbers='1234567890.'\n",
    "    for y in [line_number-1, line_number, line_number+1]:\n",
    "        if (y < 0) or (y == len(data)):\n",
    "            continue\n",
    "        for x in range(f_element-1, l_element+2):\n",
    "            if (x < 0) or (x == len(data[0])):\n",
    "                continue\n",
    "            if data[y][x] == '*':\n",
    "                return True, (y, x)\n",
    "    else:\n",
    "        return False, (None, None)\n",
    "\n",
    "for y, line in enumerate(data):\n",
    "    for x, element in enumerate(line):\n",
    "        if element in numbers:\n",
    "            number += element\n",
    "            if current_number == False:\n",
    "                   current_number = True\n",
    "                   f_element_number = x\n",
    "                   line_number = y\n",
    "        else:\n",
    "            if current_number == True:\n",
    "                if x != 0:\n",
    "                    l_element_number = x-1\n",
    "                else:\n",
    "                    l_element_number = len(line)-1\n",
    "                near_star, pos = check_star(line_number, f_element_number, l_element_number)\n",
    "                if near_star:\n",
    "                    if pos not in D:\n",
    "                        D[pos] = []\n",
    "                    D[pos].append(int(number))\n",
    "                current_number = False\n",
    "                line_number = None\n",
    "                f_element_number = None\n",
    "                l_element_number = None\n",
    "                number = ''\n",
    "            \n",
    "for k in D.keys():\n",
    "    if len(D[k]) == 2:\n",
    "        solution_part_2 += D[k][0] * D[k][1]\n",
    "\n",
    "\n",
    "print(solution_part_2)\n"
   ]
  }
 ],
 "metadata": {
  "kernelspec": {
   "display_name": "Python 3",
   "language": "python",
   "name": "python3"
  },
  "language_info": {
   "codemirror_mode": {
    "name": "ipython",
    "version": 3
   },
   "file_extension": ".py",
   "mimetype": "text/x-python",
   "name": "python",
   "nbconvert_exporter": "python",
   "pygments_lexer": "ipython3",
   "version": "3.11.6"
  }
 },
 "nbformat": 4,
 "nbformat_minor": 2
}

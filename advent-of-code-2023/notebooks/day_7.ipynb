{
 "cells": [
  {
   "cell_type": "code",
   "execution_count": 44,
   "metadata": {},
   "outputs": [
    {
     "data": {
      "text/plain": [
       "['6A868 562', 'KAKKA 232', '39399 272', '2J722 48', '5AQ36 444']"
      ]
     },
     "execution_count": 44,
     "metadata": {},
     "output_type": "execute_result"
    }
   ],
   "source": [
    "f = open(\"..\\data\\day_7.txt\", \"r\")\n",
    "data = list(f)\n",
    "data = [line.rstrip() for line in data]\n",
    "data[:5]"
   ]
  },
  {
   "cell_type": "code",
   "execution_count": 45,
   "metadata": {},
   "outputs": [
    {
     "name": "stdout",
     "output_type": "stream",
     "text": [
      "1000\n",
      "[['6A868', '562'], ['KAKKA', '232'], ['39399', '272'], ['2J722', '48'], ['5AQ36', '444']]\n"
     ]
    }
   ],
   "source": [
    "# Data processing\n",
    "pro_data = [line.split() for line in data]\n",
    "print(len(pro_data))\n",
    "print(pro_data[:5])\n",
    "\n",
    "\n",
    "\n",
    "def card_rank(card):\n",
    "    card_ranking = {\n",
    "        '2': 2, '3': 3, '4': 4, '5': 5, '6': 6, '7': 7, '8': 8, '9': 9,\n",
    "        'T': 10, 'J': 11, 'Q': 12, 'K': 13, 'A': 14,   \n",
    "    }\n",
    "    return card_ranking[card]\n",
    "\n",
    "def hand_rank(hand):\n",
    "    number_h = [hand.count(x) for x in hand]\n",
    "    if 5 in number_h: # Five of a kind\n",
    "        return 7\n",
    "    elif 4 in number_h: # Four of a kind\n",
    "        return 6\n",
    "    elif 1 not in number_h: # Full house\n",
    "        return 5\n",
    "    elif 3 in number_h: # Three of a kind\n",
    "        return 4\n",
    "    elif 2 not in number_h: # High card\n",
    "        return 1\n",
    "    elif len(set(hand)) == 3: # Two pair\n",
    "        return 3\n",
    "    else: # One pair\n",
    "        return 2\n",
    "        \n",
    "def compare_ranks(rank1, rank2):\n",
    "    if rank1 == rank2:\n",
    "        return 0\n",
    "    elif rank1 > rank2:\n",
    "        return 1\n",
    "    elif rank1 < rank2:\n",
    "        return 2\n",
    "\n"
   ]
  },
  {
   "cell_type": "code",
   "execution_count": 54,
   "metadata": {},
   "outputs": [
    {
     "name": "stdout",
     "output_type": "stream",
     "text": [
      "245794640\n",
      "CPU times: total: 328 ms\n",
      "Wall time: 466 ms\n"
     ]
    }
   ],
   "source": [
    "%%time\n",
    "# Part 1\n",
    "# The points of the hands and cards can be precomputed and stored\n",
    "# The hands are compared and the number of winings for each hand is stored, this number is the same as the ranking\n",
    "# this ranking is multiply by the bid and added together\n",
    "\n",
    "solution_part_1 = 0\n",
    "winings = [1]*len(pro_data)\n",
    "hand_points = [0]*len(pro_data)\n",
    "card_points = [0]*len(pro_data)\n",
    "\n",
    "for n1, (hand1, bid1) in enumerate(pro_data):\n",
    "    if hand_points[n1] != 0:\n",
    "        h1_point = hand_points[n1]\n",
    "    else:\n",
    "        h1_point = hand_rank(hand1)\n",
    "    if card_points[n1] == 0:\n",
    "        card_points[n1]= [card_rank(card) for card in hand1]\n",
    "    \n",
    "    for n2, (hand2, bid2) in enumerate(pro_data[n1+1:]):\n",
    "        if hand_points[n1+n2+1] != 0:\n",
    "            h2_point = hand_points[n1+n2+1]\n",
    "        else:\n",
    "            h2_point = hand_rank(hand2)\n",
    "        str_h = compare_ranks(h1_point, h2_point)\n",
    "        if str_h == 1:\n",
    "            winings[n1] += 1\n",
    "        elif str_h == 2:\n",
    "            winings[n1+n2+1] += 1\n",
    "        elif str_h == 0:\n",
    "            if card_points[n1+n2+1] == 0:\n",
    "                card_points[n1+n2+1]= [card_rank(card) for card in hand2]\n",
    "            for i in range(5):\n",
    "                str_c = compare_ranks(card_points[n1][i], card_points[n1+n2+1][i])\n",
    "                if str_c == 1:\n",
    "                    winings[n1] += 1\n",
    "                    break\n",
    "                elif str_c == 2:\n",
    "                    winings[n1+n2+1] += 1\n",
    "                    break\n",
    "    solution_part_1 += winings[n1]*int(bid1)\n",
    "\n",
    "print(solution_part_1)\n",
    "        "
   ]
  },
  {
   "cell_type": "code",
   "execution_count": 47,
   "metadata": {},
   "outputs": [],
   "source": [
    "# part 2\n",
    "# the point of each card and hand are updated\n",
    "\n",
    "def card_rank_p2(card):\n",
    "    card_ranking = {\n",
    "        '2': 2, '3': 3, '4': 4, '5': 5, '6': 6, '7': 7, '8': 8, '9': 9,\n",
    "        'T': 10,\n",
    "        'J': 0, # J to the lowest points\n",
    "        'Q': 12, 'K': 13, 'A': 14,   \n",
    "    }\n",
    "    return card_ranking[card]\n",
    "\n",
    "def hand_rank_p2(hand):\n",
    "    number_h = [hand.count(x) for x in hand]\n",
    "    number_J = hand.count('J')\n",
    "    if 5 in number_h: # Five of a kind\n",
    "        return 7\n",
    "    elif 4 in number_h: # Four of a kind\n",
    "        if number_J == 0:\n",
    "            return 6\n",
    "        else:\n",
    "            return 7 # upgraded \n",
    "    elif 1 not in number_h: # Full house\n",
    "        if number_J == 0:\n",
    "            return 5\n",
    "        else:\n",
    "            return 7 # upgraded\n",
    "    elif 3 in number_h: # Three of a kind\n",
    "        if number_J == 0:\n",
    "            return 4\n",
    "        else:\n",
    "            return 6 # upgraded\n",
    "    elif 2 not in number_h: # High card\n",
    "        if number_J == 0:\n",
    "            return 1\n",
    "        else:\n",
    "            return 2 # upgraded\n",
    "    elif len(set(hand)) == 3: # Two pair\n",
    "        if number_J == 0:\n",
    "            return 3\n",
    "        elif number_J == 1:\n",
    "            return 5\n",
    "        elif number_J == 2:\n",
    "            return 6\n",
    "    else: # One pair\n",
    "        if number_J == 0:\n",
    "            return 2\n",
    "        else:\n",
    "            return 4"
   ]
  },
  {
   "cell_type": "code",
   "execution_count": 55,
   "metadata": {},
   "outputs": [
    {
     "name": "stdout",
     "output_type": "stream",
     "text": [
      "247899149\n",
      "CPU times: total: 203 ms\n",
      "Wall time: 501 ms\n"
     ]
    }
   ],
   "source": [
    "%%time\n",
    "# Part 2\n",
    "# Same as part 1 but the point of the hands and cards have been adapted to the new rules\n",
    "\n",
    "solution_part_2 = 0\n",
    "winings = [1]*len(pro_data)\n",
    "hand_points = [0]*len(pro_data)\n",
    "card_points = [0]*len(pro_data)\n",
    "\n",
    "for n1, (hand1, bid1) in enumerate(pro_data):\n",
    "    if hand_points[n1] != 0:\n",
    "        h1_point = hand_points[n1]\n",
    "    else:\n",
    "        h1_point = hand_rank_p2(hand1)\n",
    "    if card_points[n1] == 0:\n",
    "        card_points[n1]= [card_rank_p2(card) for card in hand1]\n",
    "    for n2, (hand2, bid2) in enumerate(pro_data[n1+1:]):\n",
    "        if hand_points[n1+n2+1] != 0:\n",
    "            h2_point = hand_points[n1+n2+1]\n",
    "        else:\n",
    "            h2_point = hand_rank_p2(hand2)\n",
    "        str_h = compare_ranks(h1_point, h2_point)\n",
    "        if str_h == 1:\n",
    "            winings[n1] += 1\n",
    "        elif str_h == 2:\n",
    "            winings[n1+n2+1] += 1\n",
    "        elif str_h == 0:\n",
    "            if card_points[n1+n2+1] == 0:\n",
    "                card_points[n1+n2+1]= [card_rank_p2(card) for card in hand2]\n",
    "            for i in range(5):\n",
    "                str_c = compare_ranks(card_points[n1][i], card_points[n1+n2+1][i])\n",
    "                if str_c == 1:\n",
    "                    winings[n1] += 1\n",
    "                    break\n",
    "                elif str_c == 2:\n",
    "                    winings[n1+n2+1] += 1\n",
    "                    break\n",
    "    solution_part_2 += winings[n1]*int(bid1)\n",
    "\n",
    "print(solution_part_2)      \n"
   ]
  }
 ],
 "metadata": {
  "kernelspec": {
   "display_name": "Python 3",
   "language": "python",
   "name": "python3"
  },
  "language_info": {
   "codemirror_mode": {
    "name": "ipython",
    "version": 3
   },
   "file_extension": ".py",
   "mimetype": "text/x-python",
   "name": "python",
   "nbconvert_exporter": "python",
   "pygments_lexer": "ipython3",
   "version": "3.11.6"
  }
 },
 "nbformat": 4,
 "nbformat_minor": 2
}

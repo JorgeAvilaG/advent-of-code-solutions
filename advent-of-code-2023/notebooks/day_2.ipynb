{
 "cells": [
  {
   "cell_type": "code",
   "execution_count": 1,
   "metadata": {},
   "outputs": [
    {
     "data": {
      "text/plain": [
       "['Game 1: 10 green, 9 blue, 1 red; 1 red, 7 green; 11 green, 6 blue; 8 blue, 12 green',\n",
       " 'Game 2: 11 red, 7 green, 3 blue; 1 blue, 8 green, 5 red; 2 red, 12 green, 1 blue; 10 green, 5 blue, 7 red',\n",
       " 'Game 3: 2 red, 7 green, 1 blue; 1 blue, 8 red; 7 green, 19 red, 5 blue; 1 blue, 10 green, 18 red; 10 red, 6 blue, 4 green',\n",
       " 'Game 4: 2 blue, 5 green, 2 red; 7 red, 3 green; 3 blue, 2 red; 16 green, 2 blue',\n",
       " 'Game 5: 1 blue, 9 red; 5 blue, 9 green, 6 red; 8 red, 10 blue, 3 green; 3 red, 13 green, 4 blue; 5 green, 9 red, 6 blue; 4 green, 8 red, 7 blue']"
      ]
     },
     "execution_count": 1,
     "metadata": {},
     "output_type": "execute_result"
    }
   ],
   "source": [
    "f = open(\"..\\data\\day_2.txt\", \"r\")\n",
    "data = list(f)\n",
    "data = [line.rstrip() for line in data]\n",
    "data[:5]"
   ]
  },
  {
   "cell_type": "code",
   "execution_count": 2,
   "metadata": {},
   "outputs": [
    {
     "data": {
      "text/plain": [
       "[[(10, 'green'), (9, 'blue'), (1, 'red')],\n",
       " [(1, 'red'), (7, 'green')],\n",
       " [(11, 'green'), (6, 'blue')],\n",
       " [(8, 'blue'), (12, 'green')]]"
      ]
     },
     "execution_count": 2,
     "metadata": {},
     "output_type": "execute_result"
    }
   ],
   "source": [
    "data_pro = [line.split(':')[-1].lstrip() for line in data]\n",
    "data_pro = [line.split(';') for line in data_pro]\n",
    "\n",
    "p_data = []\n",
    "for line in data_pro:\n",
    "    p_line = []\n",
    "    for l in line:\n",
    "        positiones = l.split(',')\n",
    "        positiones = [p.strip() for p in positiones]\n",
    "        positiones = [tuple([int(p.split()[0]), p.split()[1]]) for p in positiones]\n",
    "        p_line.append(positiones)\n",
    "    p_data.append(p_line)\n",
    "\n",
    "p_data[0]"
   ]
  },
  {
   "cell_type": "code",
   "execution_count": 3,
   "metadata": {},
   "outputs": [
    {
     "name": "stdout",
     "output_type": "stream",
     "text": [
      "2239\n"
     ]
    }
   ],
   "source": [
    "# Part 1\n",
    "# only 12 red cubes, 13 green cubes, and 14 blue cubes\n",
    "solution_part_1 = 0\n",
    "D = {\n",
    "     'red': 12,\n",
    "     'green': 13,\n",
    "     'blue': 14,\n",
    "     }\n",
    "\n",
    "for n, line in enumerate(p_data):\n",
    "    possible = True\n",
    "    for round_ in line:\n",
    "        if not possible:\n",
    "            break\n",
    "        for tup in round_:\n",
    "            if tup[0] > D[tup[1]]:\n",
    "                possible = False\n",
    "                break\n",
    "    if possible:\n",
    "        solution_part_1 += n+1\n",
    "print(solution_part_1)\n"
   ]
  },
  {
   "cell_type": "code",
   "execution_count": 4,
   "metadata": {},
   "outputs": [
    {
     "name": "stdout",
     "output_type": "stream",
     "text": [
      "83435\n"
     ]
    }
   ],
   "source": [
    "# part 2\n",
    "solution_part_2 = 0\n",
    "\n",
    "for line in p_data:\n",
    "    D = {\n",
    "     'red': 0,\n",
    "     'green': 0,\n",
    "     'blue': 0,\n",
    "     }\n",
    "    for round_ in line:\n",
    "        for tup in round_:\n",
    "            if tup[0] > D[tup[1]]:\n",
    "                D[tup[1]] = tup[0]\n",
    "    total = 1\n",
    "    for v in D.values():\n",
    "        total *= v\n",
    "    solution_part_2 += total\n",
    "print(solution_part_2)\n"
   ]
  }
 ],
 "metadata": {
  "kernelspec": {
   "display_name": "Python 3",
   "language": "python",
   "name": "python3"
  },
  "language_info": {
   "codemirror_mode": {
    "name": "ipython",
    "version": 3
   },
   "file_extension": ".py",
   "mimetype": "text/x-python",
   "name": "python",
   "nbconvert_exporter": "python",
   "pygments_lexer": "ipython3",
   "version": "3.11.6"
  }
 },
 "nbformat": 4,
 "nbformat_minor": 2
}

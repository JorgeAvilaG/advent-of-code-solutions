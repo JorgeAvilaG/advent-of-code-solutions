{
 "cells": [
  {
   "cell_type": "code",
   "execution_count": 1,
   "metadata": {},
   "outputs": [
    {
     "data": {
      "text/plain": [
       "['.......#.....#.....................#.............#.................#.........................#..............................................',\n",
       " '#.....................#.......#.................................................................................#.......#...................',\n",
       " '.......................................................................#.........................#..................................#.......',\n",
       " '................................................................#..............#..............................................#.............',\n",
       " '.........................................#............................................................#....................................#']"
      ]
     },
     "execution_count": 1,
     "metadata": {},
     "output_type": "execute_result"
    }
   ],
   "source": [
    "f = open(\"..\\data\\day_11.txt\", \"r\")\n",
    "data = list(f)\n",
    "data = [line.rstrip() for line in data]\n",
    "data[:5]"
   ]
  },
  {
   "cell_type": "code",
   "execution_count": 2,
   "metadata": {},
   "outputs": [
    {
     "name": "stdout",
     "output_type": "stream",
     "text": [
      "{67, 135, 74, 46, 15, 49, 51, 84, 85, 54}\n",
      "{33, 131, 39, 10, 138, 77, 78, 48, 82, 91, 127, 63}\n"
     ]
    }
   ],
   "source": [
    "# Data processing\n",
    "pro_data = [list(line) for line in data]\n",
    "\n",
    "empty_lines = set()\n",
    "empty_columns = set()\n",
    "galaxies = set()\n",
    "\n",
    "for n, line in enumerate(data):\n",
    "    if not '#' in line:\n",
    "        empty_lines.add(n)\n",
    "\n",
    "for n in range(len(data[0])):\n",
    "    empty = True\n",
    "    for v, line in enumerate(data):\n",
    "        if line[n] == '#':\n",
    "            empty = False\n",
    "            galaxies.add((v,n))\n",
    "    if empty:\n",
    "        empty_columns.add(n)\n",
    "print(empty_lines)\n",
    "print(empty_columns)"
   ]
  },
  {
   "cell_type": "code",
   "execution_count": 3,
   "metadata": {},
   "outputs": [
    {
     "name": "stdout",
     "output_type": "stream",
     "text": [
      "9805264\n",
      "CPU times: total: 93.8 ms\n",
      "Wall time: 260 ms\n"
     ]
    }
   ],
   "source": [
    "%%time\n",
    "# Part 1\n",
    "# \n",
    "\n",
    "solution_part_1 = 0\n",
    "\n",
    "for gal_1 in galaxies:\n",
    "    for gal_2 in galaxies:\n",
    "        sol = 0\n",
    "        if gal_1 == gal_2:\n",
    "            continue\n",
    "        max_x = max(gal_1[0],gal_2[0])\n",
    "        min_x = min(gal_1[0],gal_2[0])\n",
    "        sol += max_x - min_x\n",
    "        for x in empty_lines:\n",
    "            if x < max_x and x > min_x:\n",
    "                sol += 1\n",
    "        \n",
    "        max_y = max(gal_1[1],gal_2[1])\n",
    "        min_y = min(gal_1[1],gal_2[1])\n",
    "        sol += max_y - min_y\n",
    "        for y in empty_columns:\n",
    "            if y < max_y and y > min_y:\n",
    "                sol += 1\n",
    "\n",
    "        solution_part_1 += sol\n",
    "\n",
    "print(int(solution_part_1/2))\n",
    "        "
   ]
  },
  {
   "cell_type": "code",
   "execution_count": 4,
   "metadata": {},
   "outputs": [
    {
     "name": "stdout",
     "output_type": "stream",
     "text": [
      "779032247216\n",
      "CPU times: total: 78.1 ms\n",
      "Wall time: 273 ms\n"
     ]
    }
   ],
   "source": [
    "%%time\n",
    "# Part 2\n",
    "# \n",
    "\n",
    "solution_part_2 = 0\n",
    "expansion = 1000000-1\n",
    "\n",
    "for gal_1 in galaxies:\n",
    "    for gal_2 in galaxies:\n",
    "        sol = 0\n",
    "        if gal_1 == gal_2:\n",
    "            continue\n",
    "        max_x = max(gal_1[0],gal_2[0])\n",
    "        min_x = min(gal_1[0],gal_2[0])\n",
    "        sol += max_x - min_x\n",
    "        for x in empty_lines:\n",
    "            if x < max_x and x > min_x:\n",
    "                sol += expansion\n",
    "        \n",
    "        max_y = max(gal_1[1],gal_2[1])\n",
    "        min_y = min(gal_1[1],gal_2[1])\n",
    "        sol += max_y - min_y\n",
    "        for y in empty_columns:\n",
    "            if y < max_y and y > min_y:\n",
    "                sol += expansion\n",
    "\n",
    "        solution_part_2 += sol\n",
    "\n",
    "print(int(solution_part_2/2))"
   ]
  },
  {
   "cell_type": "code",
   "execution_count": null,
   "metadata": {},
   "outputs": [],
   "source": []
  }
 ],
 "metadata": {
  "kernelspec": {
   "display_name": "Python 3",
   "language": "python",
   "name": "python3"
  },
  "language_info": {
   "codemirror_mode": {
    "name": "ipython",
    "version": 3
   },
   "file_extension": ".py",
   "mimetype": "text/x-python",
   "name": "python",
   "nbconvert_exporter": "python",
   "pygments_lexer": "ipython3",
   "version": "3.11.7"
  }
 },
 "nbformat": 4,
 "nbformat_minor": 2
}

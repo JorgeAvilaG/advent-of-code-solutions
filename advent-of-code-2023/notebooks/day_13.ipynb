{
 "cells": [
  {
   "cell_type": "code",
   "execution_count": 39,
   "metadata": {},
   "outputs": [
    {
     "data": {
      "text/plain": [
       "['#..#.....', '.##.##..#', '####..###', '#..###.##', '#..#.###.']"
      ]
     },
     "execution_count": 39,
     "metadata": {},
     "output_type": "execute_result"
    }
   ],
   "source": [
    "f = open(\"..\\data\\day_13.txt\", \"r\")\n",
    "data = list(f)\n",
    "data = [line.rstrip() for line in data]\n",
    "data[:5]"
   ]
  },
  {
   "cell_type": "code",
   "execution_count": 40,
   "metadata": {},
   "outputs": [
    {
     "data": {
      "text/plain": [
       "['#..#.....',\n",
       " '.##.##..#',\n",
       " '####..###',\n",
       " '#..###.##',\n",
       " '#..#.###.',\n",
       " '####.....',\n",
       " '....#..#.',\n",
       " '#####....',\n",
       " '#####....',\n",
       " '....#..#.',\n",
       " '####....#',\n",
       " '#..#.###.',\n",
       " '#..###.##']"
      ]
     },
     "execution_count": 40,
     "metadata": {},
     "output_type": "execute_result"
    }
   ],
   "source": [
    "# Data processing\n",
    "patterns = []\n",
    "current_p = []\n",
    "for line in data:\n",
    "    if line == '':\n",
    "        patterns.append(current_p)\n",
    "        current_p = []\n",
    "    else:\n",
    "        current_p.append(line)\n",
    "patterns.append(current_p)\n",
    "\n",
    "def transpose(pattern):\n",
    "    new_pattern = []\n",
    "    line = []\n",
    "    for n in range(len(pattern[0])):\n",
    "        for row in pattern:\n",
    "            line.append(row[n])\n",
    "        new_pattern.append(line)\n",
    "        line = []\n",
    "    return new_pattern\n",
    "patterns[0]\n",
    "#transpose(patterns[0])"
   ]
  },
  {
   "cell_type": "code",
   "execution_count": 41,
   "metadata": {},
   "outputs": [
    {
     "name": "stdout",
     "output_type": "stream",
     "text": [
      "31877\n",
      "CPU times: total: 0 ns\n",
      "Wall time: 1.01 ms\n"
     ]
    }
   ],
   "source": [
    "%%time\n",
    "# Part 1\n",
    "# Compare line by line to check if they are the same. To check the columns i just transpose the pattern.\n",
    "\n",
    "solution_part_1 = 0\n",
    "\n",
    "for _, pattern in enumerate(patterns):\n",
    "    solved = False\n",
    "    # rows\n",
    "    for i in range(len(pattern)-1):\n",
    "        good = True\n",
    "        j2 = i\n",
    "        for j in range(i, -1, -1):\n",
    "            j2 += 1\n",
    "            if j2 >= len(pattern):\n",
    "                break\n",
    "            if pattern[j] != pattern[j2]:\n",
    "                good = False\n",
    "                break\n",
    "        if good:\n",
    "            solution_part_1 += (i+1)*100\n",
    "            solved = True\n",
    "            break\n",
    "     \n",
    "    if solved:\n",
    "        continue\n",
    "    \n",
    "    # columns\n",
    "    pattern = transpose(pattern)\n",
    "    for i in range(len(pattern)-1):\n",
    "        good = True\n",
    "        j2 = i\n",
    "        for j in range(i, -1, -1):\n",
    "            j2 += 1\n",
    "            if j2 >= len(pattern):\n",
    "                break\n",
    "            if pattern[j] != pattern[j2]:\n",
    "                good = False\n",
    "                break\n",
    "        if good:\n",
    "            solution_part_1 += (i+1)\n",
    "            solved = True\n",
    "            break\n",
    "    \n",
    "print(solution_part_1)\n"
   ]
  },
  {
   "cell_type": "code",
   "execution_count": 47,
   "metadata": {},
   "outputs": [
    {
     "name": "stdout",
     "output_type": "stream",
     "text": [
      "42996\n",
      "CPU times: total: 0 ns\n",
      "Wall time: 2.29 ms\n"
     ]
    }
   ],
   "source": [
    "%%time\n",
    "# Part 2\n",
    "# Same strategy than in part 1 but counting the numbers of errors. When there is only 1 error that is the correct column or row.\n",
    "\n",
    "solution_part_2 = 0\n",
    "\n",
    "for _, pattern in enumerate(patterns):\n",
    "    solved = False\n",
    "\n",
    "    # rows\n",
    "    for i in range(len(pattern)-1):\n",
    "        n_errors = 0\n",
    "        j2 = i\n",
    "        for j in range(i, -1, -1):\n",
    "            j2 += 1\n",
    "            if j2 >= len(pattern):\n",
    "                break\n",
    "            if pattern[j] != pattern[j2]:\n",
    "                for n in range(len(pattern[j])):\n",
    "                    if pattern[j][n] != pattern[j2][n]:\n",
    "                        n_errors += 1\n",
    "            if n_errors > 1:\n",
    "                break\n",
    "        if n_errors == 1:\n",
    "            solution_part_2 += (i+1)*100\n",
    "            solved = True\n",
    "            break\n",
    "     \n",
    "    if solved:\n",
    "        continue\n",
    "    \n",
    "    # columns\n",
    "    pattern = transpose(pattern)\n",
    "    for i in range(len(pattern)-1):\n",
    "        n_errors = 0\n",
    "        j2 = i\n",
    "        for j in range(i, -1, -1):\n",
    "            j2 += 1\n",
    "            if j2 >= len(pattern):\n",
    "                break\n",
    "            if pattern[j] != pattern[j2]:\n",
    "                for n in range(len(pattern[j])):\n",
    "                    if pattern[j][n] != pattern[j2][n]:\n",
    "                        n_errors += 1\n",
    "            if n_errors > 1:\n",
    "                break\n",
    "        if n_errors == 1:\n",
    "            solution_part_2 += (i+1)\n",
    "            solved = True \n",
    "            break\n",
    "    \n",
    "print(solution_part_2)"
   ]
  }
 ],
 "metadata": {
  "kernelspec": {
   "display_name": "Python 3",
   "language": "python",
   "name": "python3"
  },
  "language_info": {
   "codemirror_mode": {
    "name": "ipython",
    "version": 3
   },
   "file_extension": ".py",
   "mimetype": "text/x-python",
   "name": "python",
   "nbconvert_exporter": "python",
   "pygments_lexer": "ipython3",
   "version": "3.11.7"
  }
 },
 "nbformat": 4,
 "nbformat_minor": 2
}

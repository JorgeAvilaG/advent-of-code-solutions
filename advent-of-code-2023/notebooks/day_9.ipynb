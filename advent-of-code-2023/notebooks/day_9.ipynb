{
 "cells": [
  {
   "cell_type": "code",
   "execution_count": 1,
   "metadata": {},
   "outputs": [
    {
     "data": {
      "text/plain": [
       "['13 14 13 10 5 -2 -11 -22 -35 -50 -67 -86 -107 -130 -155 -182 -211 -242 -275 -310 -347',\n",
       " '9 19 37 66 111 177 266 388 625 1318 3490 9701 25720 63813 149272 333318 718069 1503353 3071375 6134368 11983281',\n",
       " '17 46 98 176 281 429 679 1172 2193 4286 8484 16784 33150 65659 131075 264391 538087 1099560 2241224 4527470 9018149',\n",
       " '7 8 7 15 65 227 628 1477 3095 5950 10697 18223 29697 46625 70910 104917 151543 214292 297355 405695 545137',\n",
       " '16 20 32 75 200 503 1144 2368 4528 8110 13760 22313 34824 52601 77240 110662 155152 213400 288544 384215 504584']"
      ]
     },
     "execution_count": 1,
     "metadata": {},
     "output_type": "execute_result"
    }
   ],
   "source": [
    "f = open(\"..\\data\\day_9.txt\", \"r\")\n",
    "data = list(f)\n",
    "data = [line.rstrip() for line in data]\n",
    "data[:5]"
   ]
  },
  {
   "cell_type": "code",
   "execution_count": 2,
   "metadata": {},
   "outputs": [
    {
     "data": {
      "text/plain": [
       "[13,\n",
       " 14,\n",
       " 13,\n",
       " 10,\n",
       " 5,\n",
       " -2,\n",
       " -11,\n",
       " -22,\n",
       " -35,\n",
       " -50,\n",
       " -67,\n",
       " -86,\n",
       " -107,\n",
       " -130,\n",
       " -155,\n",
       " -182,\n",
       " -211,\n",
       " -242,\n",
       " -275,\n",
       " -310,\n",
       " -347]"
      ]
     },
     "execution_count": 2,
     "metadata": {},
     "output_type": "execute_result"
    }
   ],
   "source": [
    "# Data processing\n",
    "pro_data = [list(map(int,line.split())) for line in data]\n",
    "pro_data[0]"
   ]
  },
  {
   "cell_type": "code",
   "execution_count": 3,
   "metadata": {},
   "outputs": [
    {
     "name": "stdout",
     "output_type": "stream",
     "text": [
      "1584748274\n",
      "CPU times: total: 15.6 ms\n",
      "Wall time: 2.5 ms\n"
     ]
    }
   ],
   "source": [
    "%%time\n",
    "# Part 1\n",
    "# Calculate the diferences for each line and record it in lines. To be sure I reached the end of the secuence I had to check that all the numbers were 0\n",
    "# the solution for each line is the sum of the last number of each secuence\n",
    "\n",
    "solution_part_1 = 0\n",
    "\n",
    "for line in pro_data:\n",
    "    lines = []\n",
    "    current_line = line\n",
    "\n",
    "    while True: #current_line[-1] != 0:\n",
    "        cont = False\n",
    "        for i in current_line:\n",
    "            if i != 0:\n",
    "                cont = True\n",
    "        if not cont:\n",
    "            break\n",
    "\n",
    "        lines.append(current_line)\n",
    "        line_1 = current_line[1:]\n",
    "        line_2 = current_line[:-1]\n",
    "        current_line = [line_1[i] - line_2[i] for i in range(len(line_1))]\n",
    "    sol = 0\n",
    "    for l in lines:\n",
    "        sol += l[-1]\n",
    "    solution_part_1 += sol\n",
    "\n",
    "\n",
    "print(solution_part_1)\n",
    "        "
   ]
  },
  {
   "cell_type": "code",
   "execution_count": 4,
   "metadata": {},
   "outputs": [
    {
     "name": "stdout",
     "output_type": "stream",
     "text": [
      "1026\n",
      "CPU times: total: 0 ns\n",
      "Wall time: 2.51 ms\n"
     ]
    }
   ],
   "source": [
    "%%time\n",
    "# Part 2\n",
    "# The secuences are the same from part 1.\n",
    "# In this case the solution is calculated is the diference between the first number of the secuence and the first number of the previous secuence.\n",
    "\n",
    "solution_part_2 = 0\n",
    "\n",
    "for line in pro_data:\n",
    "    lines = []\n",
    "    current_line = line\n",
    "\n",
    "    while True: #current_line[-1] != 0:\n",
    "        cont = False\n",
    "        for i in current_line:\n",
    "            if i != 0:\n",
    "                cont = True\n",
    "        if not cont:\n",
    "            break\n",
    "\n",
    "        lines.append(current_line)\n",
    "        line_1 = current_line[1:]\n",
    "        line_2 = current_line[:-1]\n",
    "        current_line = [line_1[i] - line_2[i] for i in range(len(line_1))]\n",
    "    \n",
    "    sol = 0\n",
    "    lines.reverse()\n",
    "    for l in lines:\n",
    "        sol = l[0] - sol\n",
    "    solution_part_2 += sol\n",
    "\n",
    "\n",
    "print(solution_part_2)"
   ]
  },
  {
   "cell_type": "code",
   "execution_count": null,
   "metadata": {},
   "outputs": [],
   "source": []
  }
 ],
 "metadata": {
  "kernelspec": {
   "display_name": "Python 3",
   "language": "python",
   "name": "python3"
  },
  "language_info": {
   "codemirror_mode": {
    "name": "ipython",
    "version": 3
   },
   "file_extension": ".py",
   "mimetype": "text/x-python",
   "name": "python",
   "nbconvert_exporter": "python",
   "pygments_lexer": "ipython3",
   "version": "3.11.7"
  }
 },
 "nbformat": 4,
 "nbformat_minor": 2
}

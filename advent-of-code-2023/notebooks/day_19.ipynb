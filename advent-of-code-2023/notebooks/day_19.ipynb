{
 "cells": [
  {
   "cell_type": "code",
   "execution_count": 1,
   "metadata": {},
   "outputs": [
    {
     "data": {
      "text/plain": [
       "['fg{x>1250:A,R}',\n",
       " 'tbx{x>3829:R,R}',\n",
       " 'zkd{a<3370:tsc,m>1007:vll,A}',\n",
       " 'skj{m<551:A,m>1174:rxr,rm}',\n",
       " 'kjj{s>1675:R,s>1293:A,x>1269:A,A}']"
      ]
     },
     "execution_count": 1,
     "metadata": {},
     "output_type": "execute_result"
    }
   ],
   "source": [
    "f = open(\"..\\data\\day_19.txt\", \"r\")\n",
    "data = list(f)\n",
    "data = [line.rstrip() for line in data]\n",
    "data[:5]"
   ]
  },
  {
   "cell_type": "code",
   "execution_count": 2,
   "metadata": {},
   "outputs": [
    {
     "data": {
      "text/plain": [
       "[[[2, '<', 2294], 'vbf'], [[0, '>', 2212], 'xhh'], ['ch']]"
      ]
     },
     "execution_count": 2,
     "metadata": {},
     "output_type": "execute_result"
    }
   ],
   "source": [
    "# Data processing\n",
    "\n",
    "workflows = {}\n",
    "parts = []\n",
    "wf = True\n",
    "for line in data:\n",
    "    if line == '':\n",
    "        wf = False\n",
    "    elif wf:\n",
    "        conditions = line.split('{')[1][:-1].split(',')\n",
    "        conditions = [cond.split(':') for cond in conditions]\n",
    "        last_cond = conditions.pop()\n",
    "        new_cond = [last_cond]\n",
    "        while conditions:\n",
    "            cond = conditions.pop()\n",
    "            if len(cond)>1:\n",
    "                pos = cond[0][0]\n",
    "                if pos == 'x':\n",
    "                    pos = 0\n",
    "                elif pos == 'm':\n",
    "                    pos = 1\n",
    "                elif pos == 'a':\n",
    "                    pos = 2\n",
    "                else:\n",
    "                    pos = 3\n",
    "                comp = cond[0][1]\n",
    "                number = int(cond[0][2:])\n",
    "                cond[0] = [pos, comp, number]\n",
    "            #print(cond)\n",
    "            if cond[-1] == last_cond[-1]:\n",
    "                continue  \n",
    "            else:\n",
    "                new_cond.insert(0, cond)\n",
    "                while conditions:\n",
    "                    cond = conditions.pop()\n",
    "                    if len(cond)>1:\n",
    "                        pos = cond[0][0]\n",
    "                        if pos == 'x':\n",
    "                            pos = 0\n",
    "                        elif pos == 'm':\n",
    "                            pos = 1\n",
    "                        elif pos == 'a':\n",
    "                            pos = 2\n",
    "                        else:\n",
    "                            pos = 3\n",
    "                        comp = cond[0][1]\n",
    "                        number = int(cond[0][2:])\n",
    "                        cond[0] = [pos, comp, number]\n",
    "                    new_cond.insert(0, cond)\n",
    "        workflows[line.split('{')[0]] = new_cond\n",
    "    else: # x m a s\n",
    "        parts.append([int(cond[2:]) for cond in line[1:-1].split(',')])\n",
    "workflows['in']"
   ]
  },
  {
   "cell_type": "code",
   "execution_count": 3,
   "metadata": {},
   "outputs": [
    {
     "data": {
      "text/plain": [
       "353553"
      ]
     },
     "execution_count": 3,
     "metadata": {},
     "output_type": "execute_result"
    }
   ],
   "source": [
    "###Part 1\n",
    "solution = 0\n",
    "\n",
    "for part in parts:\n",
    "    current_wf = 'in'\n",
    "    while True:\n",
    "        wf = workflows[current_wf]\n",
    "        for step in wf:\n",
    "            if len(step) == 1:\n",
    "                current_wf = step[0]\n",
    "                break\n",
    "            else:\n",
    "                to_do = step[0]\n",
    "                if to_do[1] == '>':\n",
    "                    if part[to_do[0]] > to_do[2]:\n",
    "                        current_wf = step[1]\n",
    "                        break\n",
    "                if to_do[1] == '<':\n",
    "                    if part[to_do[0]] < to_do[2]:\n",
    "                        current_wf = step[1]\n",
    "                        break\n",
    "        if current_wf == 'R':\n",
    "            break\n",
    "        if current_wf == 'A':\n",
    "            solution += sum(part)\n",
    "            break\n",
    "\n",
    "solution"
   ]
  },
  {
   "cell_type": "code",
   "execution_count": 4,
   "metadata": {},
   "outputs": [
    {
     "name": "stdout",
     "output_type": "stream",
     "text": [
      "124615747767410\n"
     ]
    }
   ],
   "source": [
    "# part 2\n",
    "solution_part_2 = 0\n",
    "to_check = [['in', [(1,4000), (1,4000), (1,4000), (1,4000)]]]\n",
    "\n",
    "while to_check:\n",
    "    current_wf, states = to_check.pop()\n",
    "    if current_wf == 'R':\n",
    "        continue\n",
    "    if current_wf == 'A':\n",
    "        sol = 1\n",
    "        for state in states:\n",
    "            sol *= state[1]-state[0]+1\n",
    "        solution_part_2 += sol\n",
    "        continue\n",
    "    wf = workflows[current_wf]\n",
    "    for step in wf:\n",
    "        if len(step) == 1:\n",
    "            to_check.append([step[0], states])\n",
    "            break\n",
    "        else:\n",
    "            to_do = step[0]\n",
    "\n",
    "            if to_do[1] == '>':\n",
    "                if states[to_do[0]][0] > to_do[2] and states[to_do[0]][1] > to_do[2]:\n",
    "                    to_check.append([step[1], states])\n",
    "                    break\n",
    "                elif states[to_do[0]][0] < to_do[2] and states[to_do[0]][1] < to_do[2]:\n",
    "                    continue\n",
    "                elif states[to_do[0]][0] < to_do[2] and states[to_do[0]][1] > to_do[2]:\n",
    "                    good_states = []\n",
    "                    next_states = []\n",
    "                    for i in range(len(states)):\n",
    "                        if i != to_do[0]:\n",
    "                            good_states.append(states[i])\n",
    "                            next_states.append(states[i])\n",
    "                        else:\n",
    "                            good_states.append((to_do[2]+1, states[i][1]))\n",
    "                            next_states.append((states[i][0], to_do[2]))\n",
    "                    to_check.append([step[1], good_states])\n",
    "                    states = next_states.copy()\n",
    "                    continue\n",
    "            elif to_do[1] == '<':\n",
    "                if states[to_do[0]][0] < to_do[2] and states[to_do[0]][1] < to_do[2]:\n",
    "                    to_check.append([step[1], states])\n",
    "                    break\n",
    "                elif states[to_do[0]][0] > to_do[2] and states[to_do[0]][1] > to_do[2]:\n",
    "                    continue\n",
    "                elif states[to_do[0]][0] < to_do[2] and states[to_do[0]][1] > to_do[2]:\n",
    "                    good_states = []\n",
    "                    next_states = []\n",
    "                    for i in range(len(states)):\n",
    "                        if i != to_do[0]:\n",
    "                            good_states.append(states[i])\n",
    "                            next_states.append(states[i])\n",
    "                        else:\n",
    "                            good_states.append((states[i][0], to_do[2]-1))\n",
    "                            next_states.append((to_do[2], states[i][1]))\n",
    "                    to_check.append([step[1], good_states])\n",
    "                    states = next_states.copy()\n",
    "                    continue\n",
    "\n",
    "print(solution_part_2)\n",
    "        \n",
    "\n"
   ]
  }
 ],
 "metadata": {
  "kernelspec": {
   "display_name": "Python 3",
   "language": "python",
   "name": "python3"
  },
  "language_info": {
   "codemirror_mode": {
    "name": "ipython",
    "version": 3
   },
   "file_extension": ".py",
   "mimetype": "text/x-python",
   "name": "python",
   "nbconvert_exporter": "python",
   "pygments_lexer": "ipython3",
   "version": "3.11.7"
  }
 },
 "nbformat": 4,
 "nbformat_minor": 2
}

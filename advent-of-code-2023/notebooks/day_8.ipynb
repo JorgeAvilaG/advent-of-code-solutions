{
 "cells": [
  {
   "cell_type": "code",
   "execution_count": 1,
   "metadata": {},
   "outputs": [
    {
     "data": {
      "text/plain": [
       "['LLRLRRRLLLRLRRLRRRLRLRRLRLRLRRRLRRRLRLRLRRLLRRRLRRLRRLLRLRRRLRLRLLRRRLLRRRLRLRRRLRRRLRRRLLLRRRLRRLRRLRLRRLRLRRRLRLRRLRLRLRRRLRLLLRRRLLLRLRRRLRLRRLRLRLRLRRLRRLRRLRLRRRLRRRLRRLRRRLRRLRRLRRRLLRLRRLLLRRLRRLRLRLLLRRLRRLRRRLRRLLRLRRRLRRRLRRLRRLRLRRLRLRRRLRRLRRRLLRRRLRLRLLLRRRLLLRRLLRRLRLRRLRLLLRRRR',\n",
       " '',\n",
       " 'BNR = (DLB, QNM)',\n",
       " 'CTN = (NVJ, DRS)',\n",
       " 'VHS = (XDL, LVL)']"
      ]
     },
     "execution_count": 1,
     "metadata": {},
     "output_type": "execute_result"
    }
   ],
   "source": [
    "f = open(\"..\\data\\day_8.txt\", \"r\")\n",
    "data = list(f)\n",
    "data = [line.rstrip() for line in data]\n",
    "data[:5]"
   ]
  },
  {
   "cell_type": "code",
   "execution_count": 2,
   "metadata": {},
   "outputs": [
    {
     "name": "stdout",
     "output_type": "stream",
     "text": [
      "LLRLRRRLLLRLRRLRRRLRLRRLRLRLRRRLRRRLRLRLRRLLRRRLRRLRRLLRLRRRLRLRLLRRRLLRRRLRLRRRLRRRLRRRLLLRRRLRRLRRLRLRRLRLRRRLRLRRLRLRLRRRLRLLLRRRLLLRLRRRLRLRRLRLRLRLRRLRRLRRLRLRRRLRRRLRRLRRRLRRLRRLRRRLLRLRRLLLRRLRRLRLRLLLRRLRRLRRRLRRLLRLRRRLRRRLRRLRRLRLRRLRLRRRLRRLRRRLLRRRLRLRLLLRRRLLLRRLLRRLRLRRLRLLLRRRR\n"
     ]
    }
   ],
   "source": [
    "# Data processing\n",
    "inst = data[0]\n",
    "print(inst)\n",
    "pro_data = [(line[:3], line[7:10], line[-4:-1]) for line in data[2:]]\n",
    "D = {}\n",
    "for line in pro_data:\n",
    "    D[line[0]] = (line[1], line[2])\n"
   ]
  },
  {
   "cell_type": "code",
   "execution_count": 3,
   "metadata": {},
   "outputs": [
    {
     "name": "stdout",
     "output_type": "stream",
     "text": [
      "17873\n",
      "CPU times: total: 0 ns\n",
      "Wall time: 4.01 ms\n"
     ]
    }
   ],
   "source": [
    "%%time\n",
    "# Part 1\n",
    "# Simple routine that follows the instructions from AAA to ZZZ and count the steps\n",
    "\n",
    "solution_part_1 = 0\n",
    "\n",
    "going = True\n",
    "position = 'AAA'\n",
    "counter = 0\n",
    "while going:\n",
    "    if counter == len(inst):\n",
    "        counter = 0\n",
    "    movement = inst[counter]\n",
    "    if movement == 'L':\n",
    "        position = D[position][0]\n",
    "    else:\n",
    "        position = D[position][1]\n",
    "    solution_part_1 += 1\n",
    "    counter += 1\n",
    "    if position == 'ZZZ':\n",
    "        going = False\n",
    "\n",
    "\n",
    "\n",
    "print(solution_part_1)\n",
    "        "
   ]
  },
  {
   "cell_type": "code",
   "execution_count": 4,
   "metadata": {},
   "outputs": [
    {
     "name": "stdout",
     "output_type": "stream",
     "text": [
      "AAA\n",
      "QRA\n",
      "KQA\n",
      "DFA\n",
      "DBA\n",
      "HJA\n",
      "15746133679061\n",
      "CPU times: total: 15.6 ms\n",
      "Wall time: 23.1 ms\n"
     ]
    }
   ],
   "source": [
    "%%time\n",
    "# Part 2\n",
    "# Using the code from part1, count the steps for each initial position that finish in A.\n",
    "# The solution is the least common multiple of the solutions of each initial position\n",
    "\n",
    "solution_part_2 = 0\n",
    "\n",
    "positions = [x for x in D.keys() if x[-1] == 'A']\n",
    "solutions = [0]*len(positions)\n",
    "\n",
    "for i, position in enumerate(positions):\n",
    "    print(position)\n",
    "    counter = 0\n",
    "    going = True\n",
    "    while going:\n",
    "        if counter == len(inst):\n",
    "            counter = 0\n",
    "        movement = inst[counter]\n",
    "        if movement == 'L':\n",
    "            position = D[position][0]\n",
    "        else:\n",
    "            position = D[position][1]\n",
    "        solutions[i] += 1\n",
    "        counter += 1\n",
    "        if position[-1] == 'Z':\n",
    "            last_testing = solutions[i]\n",
    "            going = False\n",
    "\n",
    "\n",
    "import math\n",
    "\n",
    "solution_part_2 = math.lcm(*solutions)\n",
    "print(solution_part_2)"
   ]
  }
 ],
 "metadata": {
  "kernelspec": {
   "display_name": "Python 3",
   "language": "python",
   "name": "python3"
  },
  "language_info": {
   "codemirror_mode": {
    "name": "ipython",
    "version": 3
   },
   "file_extension": ".py",
   "mimetype": "text/x-python",
   "name": "python",
   "nbconvert_exporter": "python",
   "pygments_lexer": "ipython3",
   "version": "3.11.7"
  }
 },
 "nbformat": 4,
 "nbformat_minor": 2
}

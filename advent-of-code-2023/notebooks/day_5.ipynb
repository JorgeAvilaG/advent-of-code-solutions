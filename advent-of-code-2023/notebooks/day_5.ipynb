{
 "cells": [
  {
   "cell_type": "code",
   "execution_count": 1,
   "metadata": {},
   "outputs": [
    {
     "data": {
      "text/plain": [
       "['seeds: 2149186375 163827995 1217693442 67424215 365381741 74637275 1627905362 77016740 22956580 60539394 586585112 391263016 2740196667 355728559 2326609724 132259842 2479354214 184627854 3683286274 337630529',\n",
       " '',\n",
       " 'seed-to-soil map:',\n",
       " '3229936931 3770233758 236381937',\n",
       " '3646926122 3757559297 12674461']"
      ]
     },
     "execution_count": 1,
     "metadata": {},
     "output_type": "execute_result"
    }
   ],
   "source": [
    "f = open(\"..\\data\\day_5.txt\", \"r\")\n",
    "data = list(f)\n",
    "data = [line.rstrip() for line in data]\n",
    "data[:5]"
   ]
  },
  {
   "cell_type": "code",
   "execution_count": 2,
   "metadata": {},
   "outputs": [],
   "source": [
    "# Data processing\n",
    "original_seeds = list(map(int,data[0].split(': ')[-1].split()))\n",
    "\n",
    "Mapings = {}\n",
    "counter = 0\n",
    "for line in data[1:]:\n",
    "    if line == '':\n",
    "        new_map = True\n",
    "        counter += 1\n",
    "        continue\n",
    "    if new_map:\n",
    "        Mapings[counter] = []\n",
    "        new_map = False\n",
    "        continue\n",
    "    Mapings[counter].append(list(map(int,line.split())))\n"
   ]
  },
  {
   "cell_type": "code",
   "execution_count": 3,
   "metadata": {},
   "outputs": [
    {
     "name": "stdout",
     "output_type": "stream",
     "text": [
      "31599214\n"
     ]
    }
   ],
   "source": [
    "# Part 1\n",
    "# we go level by level (first loop), in each level we have to transform all the seeds (second loop)\n",
    "# for each seed we check any posible transformation describe in the level\n",
    "# if there is no transformation posible the seed keep the same number\n",
    "# the solution is the min of the last seed numbers\n",
    "\n",
    "solution_part_1 = 0\n",
    "\n",
    "aa = len(original_seeds)\n",
    "new_seeds = original_seeds.copy()\n",
    "\n",
    "for n in range(1, max(Mapings.keys())+1):\n",
    "    mapp = Mapings[n]\n",
    "    seeds = new_seeds.copy()\n",
    "    new_seeds = []\n",
    "\n",
    "    assert len(seeds) == aa\n",
    "\n",
    "    for seed in seeds:\n",
    "        transformed = False\n",
    "        for line in mapp:\n",
    "            if (seed >= line[1]) and (seed <= (line[1]+line[2]-1)):\n",
    "                new_seeds.append(line[0] + (seed - line[1]))\n",
    "                transformed = True\n",
    "                break\n",
    "        if not transformed:\n",
    "            new_seeds.append(seed)\n",
    "                \n",
    "solution_part_1 = min(new_seeds)\n",
    "\n",
    "print(solution_part_1)\n"
   ]
  },
  {
   "cell_type": "code",
   "execution_count": 4,
   "metadata": {},
   "outputs": [
    {
     "name": "stdout",
     "output_type": "stream",
     "text": [
      "20358599\n"
     ]
    }
   ],
   "source": [
    "# Part 2\n",
    "# First the info of the seeds is transformed for this part, so we will track ranges of seeds with the min and max values of the ranges\n",
    "# same loops as part 1\n",
    "# For the transformation we have to check:\n",
    "# - The full range is inside a transformation ----[-A->B-]---- just create a new transformed range in new seeds\n",
    "# - The beginning of the range is inside a transformation ----[-A-]-->B--- new seed only for the part inside of the transformation, the rest is returned to seeds (the range is divided)\n",
    "# - The range is in between transformations ----[---]---A-->B---[---]--- new seed with the same values\n",
    "# - The beginning is between transformation but not B  ----[---]---A-[->B--]--- new seed only for the beginning, the rest is returned to seeds (the range is divided) \n",
    "\n",
    "\n",
    "part2_seeds = []\n",
    "for n in range(0, len(original_seeds), 2):\n",
    "    part2_seeds.append((original_seeds[n], original_seeds[n] + original_seeds[n+1]-1))\n",
    "\n",
    "solution_part_2 = 0\n",
    "\n",
    "new_seeds = part2_seeds.copy()\n",
    "\n",
    "for n in range(1, max(Mapings.keys())+1):\n",
    "    mapp = Mapings[n]\n",
    "    seeds = new_seeds.copy()\n",
    "    new_seeds = []\n",
    "\n",
    "    while len(seeds):\n",
    "        seed_0, seed_f = seeds.pop(0)\n",
    "        transformed = False\n",
    "        for line in mapp:\n",
    "            if (seed_0 >= line[1]) and (seed_0 <= (line[1]+line[2]-1)):\n",
    "                new_seed_0 = line[0] + (seed_0 - line[1])\n",
    "                if (seed_f >= line[1]) and (seed_f <= (line[1]+line[2]-1)):\n",
    "                    new_seed_f = line[0] + (seed_f - line[1])\n",
    "                    new_seeds.append((new_seed_0, new_seed_f))\n",
    "                    transformed = True\n",
    "\n",
    "                    break\n",
    "                else:\n",
    "                    new_seed_f = line[0] + line[2]-1\n",
    "                    new_seeds.append((new_seed_0, new_seed_f))\n",
    "                    seeds.append((line[1]+line[2], seed_f))\n",
    "                    transformed = True\n",
    "                    break\n",
    "\n",
    "        if not transformed:\n",
    "            near_seed = [line[1]-seed_0 for line in mapp if line[1]-seed_0 >= 0]\n",
    "            if len(near_seed) > 0:\n",
    "                min_seed = min(near_seed)\n",
    "                new_seed_0 = seed_0\n",
    "                new_seed_f = min((seed_0 + min_seed-1), seed_f)\n",
    "                new_seeds.append((new_seed_0, new_seed_f))\n",
    "                if new_seed_f != seed_f:\n",
    "                    seeds.append((seed_0 + min_seed, seed_f))\n",
    "                \n",
    "            else:\n",
    "                new_seeds.append((seed_0, seed_f))\n",
    "                \n",
    "        \n",
    "solution_part_2 = sorted(new_seeds)[0][0]\n",
    "\n",
    "print(solution_part_2)           \n"
   ]
  },
  {
   "cell_type": "code",
   "execution_count": null,
   "metadata": {},
   "outputs": [],
   "source": []
  }
 ],
 "metadata": {
  "kernelspec": {
   "display_name": "Python 3",
   "language": "python",
   "name": "python3"
  },
  "language_info": {
   "codemirror_mode": {
    "name": "ipython",
    "version": 3
   },
   "file_extension": ".py",
   "mimetype": "text/x-python",
   "name": "python",
   "nbconvert_exporter": "python",
   "pygments_lexer": "ipython3",
   "version": "3.11.6"
  }
 },
 "nbformat": 4,
 "nbformat_minor": 2
}

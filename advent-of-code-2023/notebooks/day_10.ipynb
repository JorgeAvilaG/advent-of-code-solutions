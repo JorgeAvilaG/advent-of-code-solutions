{
 "cells": [
  {
   "cell_type": "code",
   "execution_count": 1,
   "metadata": {},
   "outputs": [
    {
     "data": {
      "text/plain": [
       "['FJ77.F7F.FF.F..7-J.7F|7-7-7-7FJJ-7J-LL-7FL.F-7.F-F77F7F7-77-F--7-FF|-F-L7-|.F7|7.F-77..-FF|--F.J7..|7FFL-JJ7-F-..J77.|FFJ77L---J7F7.J-F77JJ.',\n",
       " 'F.J-F.7--J-JJ--77J7LF77...|---|JFJ.|.|--JF-J-7FJ.FL-JJJL-JLLJF|.LF-.|L7FF.F-LJ77.--J7FF--|.-JL-77-7.L-J.|JF|FF--7LJ||J-.FLL7-FJF-7|-L-JL7J.F',\n",
       " 'LF-FJ-77F-7L7|LLJJ..JL77-LF-JJ|J.FFLJ..LJ-|J-LJJ.|7|L|-L|JJ|-7L7LFLF-7LJ.7.|F||F-|F||LJF|L-.FLLFFJ|7FL-JL----7FL-7|L|..FJ.LJ-FJLLL7-L7|..FFJ',\n",
       " '.--J.|F7JLJFJJ7L|.FJ.F|J.LLJ.FJ.F|.F|F7-|7L|.F7J.FF-7-7|.|--7L.L7||J.L-L7L77L|7LF|-JL-F.|F.F77FL7F77J|--|.L7||.L7JF-J-7|.F|FF77|.FL7J.LF.-LJ',\n",
       " '||LFFJ|JF---J||.-.FLFLJ7FFL.-7|LFJLFJF7LFJLJ7L--JL77|JLJ7||FJL7JF|J.F7JF77L7.LJL|J|.|J.F7FF7-F77L7JF7|.F-77J|JFFJ-77FLLFF-7JLJ--.F.L7-7L-L|.']"
      ]
     },
     "execution_count": 1,
     "metadata": {},
     "output_type": "execute_result"
    }
   ],
   "source": [
    "f = open(\"..\\data\\day_10.txt\", \"r\")\n",
    "data = list(f)\n",
    "data = [line.rstrip() for line in data]\n",
    "data[:5]"
   ]
  },
  {
   "cell_type": "code",
   "execution_count": 2,
   "metadata": {},
   "outputs": [
    {
     "name": "stdout",
     "output_type": "stream",
     "text": [
      "(115, 40)\n"
     ]
    }
   ],
   "source": [
    "# Data processing\n",
    "pro_data = [list(line) for line in data]\n",
    "for i in range(len(pro_data)):\n",
    "    for j in range(len(pro_data[0])):\n",
    "        if pro_data[i][j] == 'S':\n",
    "            initial_pos = (i,j)\n",
    "print(initial_pos)"
   ]
  },
  {
   "cell_type": "code",
   "execution_count": 3,
   "metadata": {},
   "outputs": [
    {
     "name": "stdout",
     "output_type": "stream",
     "text": [
      "6867\n",
      "CPU times: total: 0 ns\n",
      "Wall time: 6.01 ms\n"
     ]
    }
   ],
   "source": [
    "%%time\n",
    "# Part 1\n",
    "# For this problem first we find the 2 positions near the initial position (S) that are conected to it.\n",
    "# For this to conections we go steps by steps traveling trought the tubes. We have to records the previous position to avoid going back.\n",
    "# When the two posibilities find each other in the same position we have find the middle point.\n",
    "# Also we record all the positions that form the loop ,as we will need that for part 2.\n",
    "\n",
    "D = {\n",
    "    '|': [(-1,0), (1,0)],\n",
    "    '-': [(0,-1), (0,1)],\n",
    "    'L': [(-1,0), (0,1)],\n",
    "    'J': [(-1,0), (0,-1)],\n",
    "    '7': [(1,0), (0,-1)],\n",
    "    'F': [(1,0), (0,1)],\n",
    "}\n",
    "\n",
    "# find the 2 conections to 'S'\n",
    "conections = []\n",
    "for i,j in [(-1,0), (1,0), (0,-1), (0,1)]:\n",
    "    pipe = pro_data[initial_pos[0]+i][initial_pos[1]+j]\n",
    "    for y, x in D[pipe]:\n",
    "        if (initial_pos[0]+i+y) == initial_pos[0] and (initial_pos[1]+j+x) == initial_pos[1]:\n",
    "            conections.append((initial_pos[0]+i, initial_pos[1]+j))\n",
    "\n",
    "all_tubes = set() # used in part 2\n",
    "all_tubes.add(initial_pos) # part 2\n",
    "all_tubes.add(conections[0]) # part 2\n",
    "all_tubes.add(conections[1]) # part 2\n",
    "\n",
    "previous = [initial_pos, initial_pos]\n",
    "steps = 1\n",
    "while conections[0] != conections[1]:\n",
    "    #print(conections)\n",
    "    previous1 = previous[0]\n",
    "    way1 = conections[0]\n",
    "    pipe = pro_data[way1[0]][way1[1]]\n",
    "    for y, x in D[pipe]:\n",
    "        if not (((way1[0]+y) == previous1[0]) and (way1[1]+x == previous1[1])):\n",
    "            previous[0] = way1\n",
    "            conections[0] = (way1[0]+y, way1[1]+x)\n",
    "            break\n",
    "    previous2 = previous[1]\n",
    "    way2 = conections[1]\n",
    "    pipe = pro_data[way2[0]][way2[1]]\n",
    "    for y, x in D[pipe]:\n",
    "        if not (((way2[0]+y) == previous2[0]) and (way2[1]+x == previous2[1])):\n",
    "            previous[1] = way2\n",
    "            conections[1] = (way2[0]+y, way2[1]+x)\n",
    "            break\n",
    "    steps += 1\n",
    "    all_tubes.add(conections[0]) # part 2\n",
    "    all_tubes.add(conections[1]) # part 2\n",
    "\n",
    "\n",
    "solution_part_1 = steps\n",
    "\n",
    "print(solution_part_1)\n",
    "        "
   ]
  },
  {
   "cell_type": "code",
   "execution_count": 4,
   "metadata": {},
   "outputs": [
    {
     "name": "stdout",
     "output_type": "stream",
     "text": [
      "595\n",
      "CPU times: total: 0 ns\n",
      "Wall time: 3.04 ms\n"
     ]
    }
   ],
   "source": [
    "%%time\n",
    "# Part 2\n",
    "# The solution of this part can be calculated separately for each line of the maze\n",
    "# At the begining of the line we can be sure that we are autside the loop.\n",
    "# If we find a pipe that is part of the tube the state inside/outside can change depending of the pipe:\n",
    "#       '|' and the combinations 'L7' and 'FJ' will change the state\n",
    "#       '-', 'LJ' and 'F7' dont change the state\n",
    "# For the positions that are not part of the loop we check the state, if we are inside we add 1 to the solution\n",
    "\n",
    "solution_part_2 = 0\n",
    "\n",
    "for i, line in enumerate(pro_data):\n",
    "    outside = 1\n",
    "    pre = ''\n",
    "    for j, pos in enumerate(line):\n",
    "        if not ((i,j) in all_tubes):\n",
    "            if outside == -1: # we are inside\n",
    "                solution_part_2 += 1\n",
    "            continue\n",
    "\n",
    "        if pos == '|':\n",
    "            outside *= -1\n",
    "            pre = ''\n",
    "\n",
    "        elif pos == 'L':\n",
    "            pre = 'L'\n",
    "        elif pos == 'F':\n",
    "            pre = 'F'\n",
    "\n",
    "        elif pos == '7':\n",
    "            if pre == 'L':\n",
    "                outside *= -1\n",
    "                pre = ''\n",
    "            if pre == 'F':\n",
    "                pre = ''\n",
    "\n",
    "        elif pos == 'J':\n",
    "            if pre == 'L':\n",
    "                pre = ''\n",
    "            if pre == 'F':\n",
    "                outside *= -1\n",
    "                pre = ''\n",
    "\n",
    "        elif pos == 'S': # In this example the Initial position is equivalent to an L\n",
    "            pre = 'L'\n",
    "\n",
    "\n",
    "print(solution_part_2)"
   ]
  },
  {
   "cell_type": "code",
   "execution_count": null,
   "metadata": {},
   "outputs": [],
   "source": []
  }
 ],
 "metadata": {
  "kernelspec": {
   "display_name": "Python 3",
   "language": "python",
   "name": "python3"
  },
  "language_info": {
   "codemirror_mode": {
    "name": "ipython",
    "version": 3
   },
   "file_extension": ".py",
   "mimetype": "text/x-python",
   "name": "python",
   "nbconvert_exporter": "python",
   "pygments_lexer": "ipython3",
   "version": "3.11.7"
  }
 },
 "nbformat": 4,
 "nbformat_minor": 2
}

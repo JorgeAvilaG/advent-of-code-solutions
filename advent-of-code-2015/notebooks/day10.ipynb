{
 "cells": [
  {
   "cell_type": "code",
   "execution_count": 11,
   "metadata": {},
   "outputs": [
    {
     "data": {
      "text/plain": [
       "252594"
      ]
     },
     "execution_count": 11,
     "metadata": {},
     "output_type": "execute_result"
    }
   ],
   "source": [
    "seed = '1113222113'\n",
    "\n",
    "def iteration_seed(seed):\n",
    "    new_seed = ''\n",
    "    i = 0\n",
    "    while i < len(seed):\n",
    "        j = i + 1\n",
    "        while j < len(seed) and seed[j] == seed[i]:\n",
    "            j += 1\n",
    "        new_seed += str(j - i) + seed[i]\n",
    "        i = j\n",
    "    return new_seed\n",
    "\n",
    "for _ in range(40):\n",
    "    seed = iteration_seed(seed)\n",
    "len(seed)"
   ]
  },
  {
   "cell_type": "code",
   "execution_count": 15,
   "metadata": {},
   "outputs": [
    {
     "name": "stdout",
     "output_type": "stream",
     "text": [
      "3579328\n"
     ]
    }
   ],
   "source": [
    "seed = '1113222113'\n",
    "\n",
    "def iteration_seed(seed):\n",
    "    new_seed = ''\n",
    "    i = 0\n",
    "    while i < len(seed):\n",
    "        j = i + 1\n",
    "        while j < len(seed) and seed[j] == seed[i]:\n",
    "            j += 1\n",
    "        new_seed += str(j - i) + seed[i]\n",
    "        i = j\n",
    "    return new_seed\n",
    "\n",
    "for _ in range(50):\n",
    "    seed = iteration_seed(seed)\n",
    "print(len(seed))\n"
   ]
  }
 ],
 "metadata": {
  "kernelspec": {
   "display_name": "Python 3",
   "language": "python",
   "name": "python3"
  },
  "language_info": {
   "codemirror_mode": {
    "name": "ipython",
    "version": 3
   },
   "file_extension": ".py",
   "mimetype": "text/x-python",
   "name": "python",
   "nbconvert_exporter": "python",
   "pygments_lexer": "ipython3",
   "version": "3.11.6"
  }
 },
 "nbformat": 4,
 "nbformat_minor": 2
}

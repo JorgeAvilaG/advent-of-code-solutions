{
 "cells": [
  {
   "cell_type": "code",
   "execution_count": 22,
   "metadata": {},
   "outputs": [],
   "source": [
    "input_code = \"ckczppom\""
   ]
  },
  {
   "cell_type": "code",
   "execution_count": 23,
   "metadata": {},
   "outputs": [
    {
     "name": "stdout",
     "output_type": "stream",
     "text": [
      "00000fe1c139a2c710e9a5c03ec1af03\n",
      "117946\n"
     ]
    }
   ],
   "source": [
    "import hashlib\n",
    "\n",
    "for n in range(10000000):\n",
    "    candidate = input_code + str(n)\n",
    "    string = hashlib.md5(candidate.encode()).hexdigest()\n",
    "    if string[:5] == '00000':\n",
    "        print(string)\n",
    "        print(n)\n",
    "        break\n",
    "    #print(candidate, string[:5])"
   ]
  },
  {
   "cell_type": "code",
   "execution_count": 24,
   "metadata": {},
   "outputs": [
    {
     "name": "stdout",
     "output_type": "stream",
     "text": [
      "00000028023e3b4729684757f8dc3fbf\n",
      "3938038\n"
     ]
    }
   ],
   "source": [
    "import hashlib\n",
    "\n",
    "for n in range(10000000):\n",
    "    candidate = input_code + str(n)\n",
    "    string = hashlib.md5(candidate.encode()).hexdigest()\n",
    "    if string[:6] == '000000':\n",
    "        print(string)\n",
    "        print(n)\n",
    "        break\n",
    "    #print(candidate, string[:5])"
   ]
  },
  {
   "cell_type": "code",
   "execution_count": 19,
   "metadata": {},
   "outputs": [
    {
     "data": {
      "text/plain": [
       "'000001dbbfa3a5c83a2d506429c7b00e'"
      ]
     },
     "execution_count": 19,
     "metadata": {},
     "output_type": "execute_result"
    }
   ],
   "source": [
    "candidate = 'abcdef609043'\n",
    "hashlib.md5(candidate.encode()).hexdigest()"
   ]
  }
 ],
 "metadata": {
  "kernelspec": {
   "display_name": "Python 3",
   "language": "python",
   "name": "python3"
  },
  "language_info": {
   "codemirror_mode": {
    "name": "ipython",
    "version": 3
   },
   "file_extension": ".py",
   "mimetype": "text/x-python",
   "name": "python",
   "nbconvert_exporter": "python",
   "pygments_lexer": "ipython3",
   "version": "3.8.10"
  }
 },
 "nbformat": 4,
 "nbformat_minor": 2
}

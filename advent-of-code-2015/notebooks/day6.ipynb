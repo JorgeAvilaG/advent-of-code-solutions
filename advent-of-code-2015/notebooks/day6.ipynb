{
 "cells": [
  {
   "cell_type": "code",
   "execution_count": 1,
   "metadata": {},
   "outputs": [
    {
     "data": {
      "text/plain": [
       "[['off', [660, 55], [986, 197]],\n",
       " ['off', [341, 304], [638, 850]],\n",
       " ['off', [199, 133], [461, 193]],\n",
       " ['toggle', [322, 558], [977, 958]],\n",
       " ['toggle', [537, 781], [687, 941]]]"
      ]
     },
     "execution_count": 1,
     "metadata": {},
     "output_type": "execute_result"
    }
   ],
   "source": [
    "f = open(\"..\\data\\day6.txt\", \"r\")\n",
    "data = list(f)\n",
    "data = [line.rstrip().split() for line in data]\n",
    "data = [[line[-4], [int(x) for x in line[-3].split(',')], [int(x) for x in line[-1].split(',')]] for line in data]\n",
    "data[:5]"
   ]
  },
  {
   "cell_type": "code",
   "execution_count": 2,
   "metadata": {},
   "outputs": [],
   "source": [
    "import numpy as np"
   ]
  },
  {
   "cell_type": "code",
   "execution_count": 19,
   "metadata": {},
   "outputs": [
    {
     "data": {
      "text/plain": [
       "400410.0"
      ]
     },
     "execution_count": 19,
     "metadata": {},
     "output_type": "execute_result"
    }
   ],
   "source": [
    "lights = np.zeros((1000, 1000))\n",
    "for action, (x1,y1), (x2,y2) in data:\n",
    "    if action == 'on':\n",
    "        lights[x1:x2+1,y1:y2+1] = 1\n",
    "    elif action == 'off':\n",
    "        lights[x1:x2+1,y1:y2+1] = 0\n",
    "    elif action == 'toggle':\n",
    "        lights[x1:x2+1,y1:y2+1] = 1 - lights[x1:x2+1,y1:y2+1]\n",
    "\n",
    "sum(sum(lights))\n"
   ]
  },
  {
   "cell_type": "code",
   "execution_count": 21,
   "metadata": {},
   "outputs": [
    {
     "data": {
      "text/plain": [
       "15343601.0"
      ]
     },
     "execution_count": 21,
     "metadata": {},
     "output_type": "execute_result"
    }
   ],
   "source": [
    "\n",
    "lights = np.zeros((1000, 1000))\n",
    "for action, (x1,y1), (x2,y2) in data:\n",
    "    if action == 'on':\n",
    "        lights[x1:x2+1,y1:y2+1] = lights[x1:x2+1,y1:y2+1] + 1\n",
    "    elif action == 'off':\n",
    "        lights[x1:x2+1,y1:y2+1] = lights[x1:x2+1,y1:y2+1] - (lights[x1:x2+1,y1:y2+1] > 0)\n",
    "    elif action == 'toggle':\n",
    "        lights[x1:x2+1,y1:y2+1] = lights[x1:x2+1,y1:y2+1] + 2\n",
    "\n",
    "sum(sum(lights))"
   ]
  }
 ],
 "metadata": {
  "kernelspec": {
   "display_name": "Python 3",
   "language": "python",
   "name": "python3"
  },
  "language_info": {
   "codemirror_mode": {
    "name": "ipython",
    "version": 3
   },
   "file_extension": ".py",
   "mimetype": "text/x-python",
   "name": "python",
   "nbconvert_exporter": "python",
   "pygments_lexer": "ipython3",
   "version": "3.11.6"
  }
 },
 "nbformat": 4,
 "nbformat_minor": 2
}

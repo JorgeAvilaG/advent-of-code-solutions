{
 "cells": [
  {
   "cell_type": "code",
   "execution_count": 3,
   "metadata": {},
   "outputs": [
    {
     "data": {
      "text/plain": [
       "['uxcplgxnkwbdwhrp',\n",
       " 'suerykeptdsutidb',\n",
       " 'dmrtgdkaimrrwmej',\n",
       " 'ztxhjwllrckhakut',\n",
       " 'gdnzurjbbwmgayrg']"
      ]
     },
     "execution_count": 3,
     "metadata": {},
     "output_type": "execute_result"
    }
   ],
   "source": [
    "f = open(\"..\\data\\day5.txt\", \"r\")\n",
    "data = list(f)\n",
    "data = [line.rstrip() for line in data]\n",
    "data[:5]"
   ]
  },
  {
   "cell_type": "code",
   "execution_count": 6,
   "metadata": {},
   "outputs": [
    {
     "name": "stdout",
     "output_type": "stream",
     "text": [
      "236\n"
     ]
    }
   ],
   "source": [
    "total_p1 = 0\n",
    "for line in data:\n",
    "    vowels = 0\n",
    "    double = 0\n",
    "    bad = 0\n",
    "    for n, char in enumerate(line):\n",
    "        if ((n+1)<len(line)) and line[n:n+2] in ['ab', 'cd', 'pq', 'xy']:\n",
    "            bad = 1\n",
    "            break\n",
    "        if char in \"aeiou\":\n",
    "            vowels  +=1\n",
    "        if ((n+1)<len(line)) and line[n] == line[n+1]:\n",
    "            double = 1\n",
    "    if not bad and double and vowels>=3:\n",
    "        total_p1 +=1\n",
    "\n",
    "print(total_p1)"
   ]
  },
  {
   "cell_type": "code",
   "execution_count": 7,
   "metadata": {},
   "outputs": [
    {
     "name": "stdout",
     "output_type": "stream",
     "text": [
      "51\n"
     ]
    }
   ],
   "source": [
    "total_p2 = 0\n",
    "for line in data:\n",
    "    cond1 = 0\n",
    "    cond2 = 0\n",
    "    for n, char in enumerate(line):\n",
    "        if ((n+1)<len(line)) and line[n:n+2] in line[n+2:]:\n",
    "            cond1 = 1\n",
    "        if ((n+2)<len(line)) and line[n] == line[n+2]:\n",
    "            cond2 = 1\n",
    "        if cond1 and cond2:\n",
    "            break\n",
    "    if cond1 and cond2:\n",
    "            total_p2 += 1\n",
    "\n",
    "print(total_p2)"
   ]
  }
 ],
 "metadata": {
  "kernelspec": {
   "display_name": "Python 3",
   "language": "python",
   "name": "python3"
  },
  "language_info": {
   "codemirror_mode": {
    "name": "ipython",
    "version": 3
   },
   "file_extension": ".py",
   "mimetype": "text/x-python",
   "name": "python",
   "nbconvert_exporter": "python",
   "pygments_lexer": "ipython3",
   "version": "3.8.10"
  }
 },
 "nbformat": 4,
 "nbformat_minor": 2
}

{
 "cells": [
  {
   "cell_type": "code",
   "execution_count": 2,
   "metadata": {},
   "outputs": [
    {
     "data": {
      "text/plain": [
       "['^', '>', '<', '^', '>']"
      ]
     },
     "execution_count": 2,
     "metadata": {},
     "output_type": "execute_result"
    }
   ],
   "source": [
    "f = open(\"..\\data\\day3.txt\", \"r\")\n",
    "data = list(f)\n",
    "data = list(data[0])\n",
    "#data = [[int(x) for x in line.rstrip().split('x')] for line in data]\n",
    "data[:5]"
   ]
  },
  {
   "cell_type": "code",
   "execution_count": 3,
   "metadata": {},
   "outputs": [
    {
     "name": "stdout",
     "output_type": "stream",
     "text": [
      "2081\n"
     ]
    }
   ],
   "source": [
    "positions_p1 = set()\n",
    "x, y = 0, 0\n",
    "positions_p1.add((x, y))\n",
    "\n",
    "for indication in data:\n",
    "    if indication == '^':\n",
    "        y+=1\n",
    "    elif indication == 'v':\n",
    "        y-=1\n",
    "    elif indication == '>':\n",
    "        x+=1\n",
    "    elif indication == '<':\n",
    "        x-=1\n",
    "    positions_p1.add((x, y))\n",
    "\n",
    "print(len(positions_p1))    \n",
    "    "
   ]
  },
  {
   "cell_type": "code",
   "execution_count": 7,
   "metadata": {},
   "outputs": [
    {
     "name": "stdout",
     "output_type": "stream",
     "text": [
      "2341\n"
     ]
    }
   ],
   "source": [
    "def update_xy(x,y, indication):\n",
    "    if indication == '^':\n",
    "        y+=1\n",
    "    elif indication == 'v':\n",
    "        y-=1\n",
    "    elif indication == '>':\n",
    "        x+=1\n",
    "    elif indication == '<':\n",
    "        x-=1\n",
    "    return x, y\n",
    "\n",
    "\n",
    "positions_p2 = set()\n",
    "x, y = 0, 0\n",
    "x2, y2 = 0, 0\n",
    "positions_p2.add((x, y))\n",
    "\n",
    "for n, indication in enumerate(data):\n",
    "    if n%2==0:\n",
    "        x, y = update_xy(x, y, indication)\n",
    "        positions_p2.add((x, y))\n",
    "    else: \n",
    "        x2, y2 = update_xy(x2, y2, indication)\n",
    "        positions_p2.add((x2, y2))\n",
    "print(len(positions_p2)) "
   ]
  }
 ],
 "metadata": {
  "kernelspec": {
   "display_name": "Python 3",
   "language": "python",
   "name": "python3"
  },
  "language_info": {
   "codemirror_mode": {
    "name": "ipython",
    "version": 3
   },
   "file_extension": ".py",
   "mimetype": "text/x-python",
   "name": "python",
   "nbconvert_exporter": "python",
   "pygments_lexer": "ipython3",
   "version": "3.8.10"
  }
 },
 "nbformat": 4,
 "nbformat_minor": 2
}

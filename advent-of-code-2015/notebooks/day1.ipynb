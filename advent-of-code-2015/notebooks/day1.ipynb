{
 "cells": [
  {
   "cell_type": "code",
   "execution_count": 7,
   "metadata": {},
   "outputs": [],
   "source": [
    "f = open(\"..\\data\\day1.txt\", \"r\")\n",
    "data = list(f)\n",
    "data = list(data[0])"
   ]
  },
  {
   "cell_type": "code",
   "execution_count": 8,
   "metadata": {},
   "outputs": [
    {
     "name": "stdout",
     "output_type": "stream",
     "text": [
      "74\n"
     ]
    }
   ],
   "source": [
    "floor = 0\n",
    "for i in data:\n",
    "    if i == '(':\n",
    "        floor += 1\n",
    "    elif i == ')':\n",
    "        floor -= 1\n",
    "    else:\n",
    "        print(\"Error\")\n",
    "        break\n",
    "print(floor)"
   ]
  },
  {
   "cell_type": "code",
   "execution_count": 9,
   "metadata": {},
   "outputs": [
    {
     "name": "stdout",
     "output_type": "stream",
     "text": [
      "1795\n",
      "-1\n"
     ]
    }
   ],
   "source": [
    "floor = 0\n",
    "pos = 0\n",
    "for i in data:\n",
    "    pos += 1\n",
    "    if i == '(':\n",
    "        floor += 1\n",
    "    elif i == ')':\n",
    "        floor -= 1\n",
    "    else:\n",
    "        print(\"Error\")\n",
    "        break\n",
    "    if floor == -1:\n",
    "        break\n",
    "print(pos)\n",
    "print(floor)"
   ]
  }
 ],
 "metadata": {
  "kernelspec": {
   "display_name": "Python 3",
   "language": "python",
   "name": "python3"
  },
  "language_info": {
   "codemirror_mode": {
    "name": "ipython",
    "version": 3
   },
   "file_extension": ".py",
   "mimetype": "text/x-python",
   "name": "python",
   "nbconvert_exporter": "python",
   "pygments_lexer": "ipython3",
   "version": "3.8.10"
  }
 },
 "nbformat": 4,
 "nbformat_minor": 2
}

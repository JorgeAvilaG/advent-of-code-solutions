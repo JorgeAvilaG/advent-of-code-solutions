{
 "cells": [
  {
   "cell_type": "code",
   "execution_count": 2,
   "metadata": {},
   "outputs": [
    {
     "data": {
      "text/plain": [
       "[['Faerun', 'to', 'Norrath', '=', '129'],\n",
       " ['Faerun', 'to', 'Tristram', '=', '58'],\n",
       " ['Faerun', 'to', 'AlphaCentauri', '=', '13'],\n",
       " ['Faerun', 'to', 'Arbre', '=', '24'],\n",
       " ['Faerun', 'to', 'Snowdin', '=', '60']]"
      ]
     },
     "execution_count": 2,
     "metadata": {},
     "output_type": "execute_result"
    }
   ],
   "source": [
    "f = open(\"..\\data\\day9.txt\", \"r\")\n",
    "data = list(f)\n",
    "data = [line.rstrip().split(' ') for line in data]\n",
    "data[:5]"
   ]
  },
  {
   "cell_type": "code",
   "execution_count": 4,
   "metadata": {},
   "outputs": [],
   "source": [
    "Cities = {}\n",
    "for line in data:\n",
    "    if line[0] not in Cities:\n",
    "        Cities[line[0]] = {}\n",
    "    if line[2] not in Cities:\n",
    "        Cities[line[2]] = {}\n",
    "    Cities[line[0]][line[2]] = int(line[4])\n",
    "    Cities[line[2]][line[0]] = int(line[4])"
   ]
  },
  {
   "cell_type": "code",
   "execution_count": 11,
   "metadata": {},
   "outputs": [
    {
     "name": "stdout",
     "output_type": "stream",
     "text": [
      "207\n",
      "804\n"
     ]
    }
   ],
   "source": [
    "cities = list(Cities.keys())\n",
    "posible_sol = []\n",
    "\n",
    "for city in cities:\n",
    "    visited = [city]\n",
    "    to_visit = [(city,visited,0)]\n",
    "    \n",
    "    while to_visit:\n",
    "        current, visited, length = to_visit.pop()\n",
    "        for neighbor in Cities[current]:\n",
    "            if neighbor not in visited:\n",
    "                to_visit.append((neighbor,visited+[neighbor],length+Cities[current][neighbor]))\n",
    "        if len(visited) == len(cities):\n",
    "            posible_sol.append(length)\n",
    "            #print(visited, length)\n",
    "print(min(posible_sol))\n",
    "print(max(posible_sol))           \n",
    "\n",
    "\n"
   ]
  }
 ],
 "metadata": {
  "kernelspec": {
   "display_name": "Python 3",
   "language": "python",
   "name": "python3"
  },
  "language_info": {
   "codemirror_mode": {
    "name": "ipython",
    "version": 3
   },
   "file_extension": ".py",
   "mimetype": "text/x-python",
   "name": "python",
   "nbconvert_exporter": "python",
   "pygments_lexer": "ipython3",
   "version": "3.11.6"
  }
 },
 "nbformat": 4,
 "nbformat_minor": 2
}

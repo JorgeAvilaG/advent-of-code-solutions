{
 "cells": [
  {
   "cell_type": "code",
   "execution_count": 2,
   "metadata": {},
   "outputs": [
    {
     "data": {
      "text/plain": [
       "['\"qxfcsmh\"',\n",
       " '\"ffsfyxbyuhqkpwatkjgudo\"',\n",
       " '\"byc\\\\x9dyxuafof\\\\\\\\\\\\xa6uf\\\\\\\\axfozomj\\\\\\\\olh\\\\x6a\"',\n",
       " '\"jtqvz\"',\n",
       " '\"uzezxa\\\\\"jgbmojtwyfbfguz\"']"
      ]
     },
     "execution_count": 2,
     "metadata": {},
     "output_type": "execute_result"
    }
   ],
   "source": [
    "f = open(\"..\\data\\day8.txt\", \"r\")\n",
    "data = list(f)\n",
    "data = [line.rstrip() for line in data]\n",
    "data[:5]"
   ]
  },
  {
   "cell_type": "code",
   "execution_count": 10,
   "metadata": {},
   "outputs": [
    {
     "name": "stdout",
     "output_type": "stream",
     "text": [
      "1350\n"
     ]
    }
   ],
   "source": [
    "length_total = 0\n",
    "length_string = 0\n",
    "for line in data:\n",
    "    length_total += len(line)\n",
    "    n=1\n",
    "    string_l = 0\n",
    "    while n < len(line)-1:\n",
    "        if line[n:n+2] == '\\\\\\\\' or line[n:n+2] == '\\\\\"':\n",
    "            string_l += 1\n",
    "            n+=2\n",
    "        elif line[n:n+2] == \"\\\\x\":\n",
    "            string_l += 1\n",
    "            n+=4\n",
    "        else:\n",
    "            string_l += 1\n",
    "            n+=1\n",
    "    length_string += string_l\n",
    "print(length_total - length_string)\n"
   ]
  },
  {
   "cell_type": "code",
   "execution_count": 17,
   "metadata": {},
   "outputs": [
    {
     "name": "stdout",
     "output_type": "stream",
     "text": [
      "2085\n"
     ]
    }
   ],
   "source": [
    "length_total = 0\n",
    "length_string = 0\n",
    "for line in data:\n",
    "    n=0\n",
    "    length_line = 4\n",
    "    while n < len(line):\n",
    "        if line[n:n+2] == '\\\\\\\\' or line[n:n+2] == '\\\\\"':\n",
    "            length_line += 4\n",
    "            n+=2\n",
    "        elif line[n:n+2] == \"\\\\x\":\n",
    "            length_line += 5\n",
    "            n+=4\n",
    "        else:\n",
    "            length_line += 1\n",
    "            n+=1\n",
    "    length_total += length_line\n",
    "\n",
    "    length_string += len(line)\n",
    "\n",
    "print(length_total - length_string)"
   ]
  }
 ],
 "metadata": {
  "kernelspec": {
   "display_name": "Python 3",
   "language": "python",
   "name": "python3"
  },
  "language_info": {
   "codemirror_mode": {
    "name": "ipython",
    "version": 3
   },
   "file_extension": ".py",
   "mimetype": "text/x-python",
   "name": "python",
   "nbconvert_exporter": "python",
   "pygments_lexer": "ipython3",
   "version": "3.11.6"
  }
 },
 "nbformat": 4,
 "nbformat_minor": 2
}

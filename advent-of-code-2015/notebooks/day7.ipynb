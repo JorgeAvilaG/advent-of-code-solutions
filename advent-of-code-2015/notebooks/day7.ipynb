{
 "cells": [
  {
   "cell_type": "code",
   "execution_count": 14,
   "metadata": {},
   "outputs": [
    {
     "data": {
      "text/plain": [
       "[['bn', 'RSHIFT', '2', '->', 'bo'],\n",
       " ['lf', 'RSHIFT', '1', '->', 'ly'],\n",
       " ['fo', 'RSHIFT', '3', '->', 'fq'],\n",
       " ['cj', 'OR', 'cp', '->', 'cq'],\n",
       " ['fo', 'OR', 'fz', '->', 'ga']]"
      ]
     },
     "execution_count": 14,
     "metadata": {},
     "output_type": "execute_result"
    }
   ],
   "source": [
    "f = open(\"..\\data\\day7.txt\", \"r\")\n",
    "data = list(f)\n",
    "data = [line.rstrip().split() for line in data]\n",
    "data[:5]"
   ]
  },
  {
   "cell_type": "code",
   "execution_count": 15,
   "metadata": {},
   "outputs": [],
   "source": [
    "def AND(a, b):\n",
    "    return a & b\n",
    "\n",
    "def OR(a, b):\n",
    "    return a | b\n",
    "\n",
    "def LSHIFT(a, b):\n",
    "    return a << b\n",
    "\n",
    "def RSHIFT(a, b):\n",
    "    return a >> b"
   ]
  },
  {
   "cell_type": "code",
   "execution_count": 16,
   "metadata": {},
   "outputs": [
    {
     "data": {
      "text/plain": [
       "46065"
      ]
     },
     "execution_count": 16,
     "metadata": {},
     "output_type": "execute_result"
    }
   ],
   "source": [
    "wires = {}\n",
    "fuctions = ['AND', 'OR', 'NOT', 'LSHIFT', 'RSHIFT']\n",
    "next_round = data.copy()\n",
    "\n",
    "while len(next_round) > 0:\n",
    "    circuits = next_round.copy()\n",
    "    next_round = []\n",
    "    for line in circuits:\n",
    "        if line[1] == '->':\n",
    "            if line[0].isdigit():\n",
    "                wires[line[-1]] = int(line[0])\n",
    "            elif line[0] in wires.keys():\n",
    "                wires[line[-1]] = wires[line[0]]\n",
    "            else:\n",
    "                next_round.append(line)\n",
    "        elif line[0] == 'NOT':\n",
    "            if line[1] in wires.keys():\n",
    "                wires[line[-1]] = ~wires[line[1]]\n",
    "            else:\n",
    "                next_round.append(line)\n",
    "        elif line[1] == 'AND':\n",
    "            if line[0].isdigit() and line[2] in wires.keys():\n",
    "                wires[line[-1]] = AND(int(line[0]), wires[line[2]])\n",
    "            elif line[2].isdigit() and line[0] in wires.keys():\n",
    "                wires[line[-1]] = AND(wires[line[0]], int(line[2]))\n",
    "            elif line[0].isdigit() and line[2].isdigit():\n",
    "                wires[line[-1]] = AND(int(line[0]), int(line[2]))\n",
    "            elif line[0] in wires.keys() and line[2] in wires.keys():\n",
    "                wires[line[-1]] = AND(wires[line[0]], wires[line[2]])\n",
    "            else:\n",
    "                next_round.append(line)\n",
    "        elif line[1] == 'OR':\n",
    "            if line[0].isdigit() and line[2] in wires.keys():\n",
    "                wires[line[-1]] = OR(int(line[0]), wires[line[2]])\n",
    "            elif line[2].isdigit() and line[0] in wires.keys():\n",
    "                wires[line[-1]] = OR(wires[line[0]], int(line[2]))\n",
    "            elif line[0].isdigit() and line[2].isdigit():\n",
    "                wires[line[-1]] = OR(int(line[0]), int(line[2]))\n",
    "            elif line[0] in wires.keys() and line[2] in wires.keys():\n",
    "                wires[line[-1]] = OR(wires[line[0]], wires[line[2]])\n",
    "            else:\n",
    "                next_round.append(line)\n",
    "        elif line[1] == 'LSHIFT':\n",
    "            if line[0] in wires.keys():\n",
    "                wires[line[-1]] = LSHIFT(wires[line[0]], int(line[2]))\n",
    "            else:\n",
    "                next_round.append(line)\n",
    "        elif line[1] == 'RSHIFT':\n",
    "            if line[0] in wires.keys():\n",
    "                wires[line[-1]] = wires[line[0]] >> int(line[2])\n",
    "            else:\n",
    "                next_round.append(line)\n",
    "        \n",
    "wires['a']\n",
    "\n",
    "\n"
   ]
  },
  {
   "cell_type": "code",
   "execution_count": null,
   "metadata": {},
   "outputs": [
    {
     "data": {
      "text/plain": [
       "46065"
      ]
     },
     "metadata": {},
     "output_type": "display_data"
    }
   ],
   "source": [
    "wires = {}\n",
    "fuctions = ['AND', 'OR', 'NOT', 'LSHIFT', 'RSHIFT']\n",
    "next_round = data.copy()\n",
    "\n",
    "while len(next_round) > 0:\n",
    "    circuits = next_round.copy()\n",
    "    next_round = []\n",
    "    for line in circuits:\n",
    "        if line[1] == '->':\n",
    "            if line[0].isdigit():\n",
    "                wires[line[-1]] = int(line[0])\n",
    "            elif line[0] in wires.keys():\n",
    "                wires[line[-1]] = wires[line[0]]\n",
    "            else:\n",
    "                next_round.append(line)\n",
    "        elif line[0] == 'NOT':\n",
    "            if line[1] in wires.keys():\n",
    "                wires[line[-1]] = ~wires[line[1]]\n",
    "            else:\n",
    "                next_round.append(line)\n",
    "        elif line[1] == 'AND':\n",
    "            if line[0].isdigit() and line[2] in wires.keys():\n",
    "                wires[line[-1]] = AND(int(line[0]), wires[line[2]])\n",
    "            elif line[2].isdigit() and line[0] in wires.keys():\n",
    "                wires[line[-1]] = AND(wires[line[0]], int(line[2]))\n",
    "            elif line[0].isdigit() and line[2].isdigit():\n",
    "                wires[line[-1]] = AND(int(line[0]), int(line[2]))\n",
    "            elif line[0] in wires.keys() and line[2] in wires.keys():\n",
    "                wires[line[-1]] = AND(wires[line[0]], wires[line[2]])\n",
    "            else:\n",
    "                next_round.append(line)\n",
    "        elif line[1] == 'OR':\n",
    "            if line[0].isdigit() and line[2] in wires.keys():\n",
    "                wires[line[-1]] = OR(int(line[0]), wires[line[2]])\n",
    "            elif line[2].isdigit() and line[0] in wires.keys():\n",
    "                wires[line[-1]] = OR(wires[line[0]], int(line[2]))\n",
    "            elif line[0].isdigit() and line[2].isdigit():\n",
    "                wires[line[-1]] = OR(int(line[0]), int(line[2]))\n",
    "            elif line[0] in wires.keys() and line[2] in wires.keys():\n",
    "                wires[line[-1]] = OR(wires[line[0]], wires[line[2]])\n",
    "            else:\n",
    "                next_round.append(line)\n",
    "        elif line[1] == 'LSHIFT':\n",
    "            if line[0] in wires.keys():\n",
    "                wires[line[-1]] = LSHIFT(wires[line[0]], int(line[2]))\n",
    "            else:\n",
    "                next_round.append(line)\n",
    "        elif line[1] == 'RSHIFT':\n",
    "            if line[0] in wires.keys():\n",
    "                wires[line[-1]] = wires[line[0]] >> int(line[2])\n",
    "            else:\n",
    "                next_round.append(line)\n",
    "        \n",
    "wires['a']\n",
    "\n",
    "\n"
   ]
  },
  {
   "cell_type": "code",
   "execution_count": 17,
   "metadata": {},
   "outputs": [
    {
     "data": {
      "text/plain": [
       "[['bn', 'RSHIFT', '2', '->', 'bo'],\n",
       " ['lf', 'RSHIFT', '1', '->', 'ly'],\n",
       " ['fo', 'RSHIFT', '3', '->', 'fq'],\n",
       " ['cj', 'OR', 'cp', '->', 'cq'],\n",
       " ['fo', 'OR', 'fz', '->', 'ga']]"
      ]
     },
     "execution_count": 17,
     "metadata": {},
     "output_type": "execute_result"
    }
   ],
   "source": [
    "f = open(\"..\\data\\day7_part2.txt\", \"r\")\n",
    "data = list(f)\n",
    "data = [line.rstrip().split() for line in data]\n",
    "data[:5]\n"
   ]
  },
  {
   "cell_type": "code",
   "execution_count": 18,
   "metadata": {},
   "outputs": [
    {
     "data": {
      "text/plain": [
       "14134"
      ]
     },
     "execution_count": 18,
     "metadata": {},
     "output_type": "execute_result"
    }
   ],
   "source": [
    "wires = {}\n",
    "wires['b'] = 46065\n",
    "fuctions = ['AND', 'OR', 'NOT', 'LSHIFT', 'RSHIFT']\n",
    "next_round = data.copy()\n",
    "\n",
    "while len(next_round) > 0:\n",
    "    circuits = next_round.copy()\n",
    "    next_round = []\n",
    "    for line in circuits:\n",
    "        if line[1] == '->':\n",
    "            if line[0].isdigit():\n",
    "                wires[line[-1]] = int(line[0])\n",
    "            elif line[0] in wires.keys():\n",
    "                wires[line[-1]] = wires[line[0]]\n",
    "            else:\n",
    "                next_round.append(line)\n",
    "        elif line[0] == 'NOT':\n",
    "            if line[1] in wires.keys():\n",
    "                wires[line[-1]] = ~wires[line[1]]\n",
    "            else:\n",
    "                next_round.append(line)\n",
    "        elif line[1] == 'AND':\n",
    "            if line[0].isdigit() and line[2] in wires.keys():\n",
    "                wires[line[-1]] = AND(int(line[0]), wires[line[2]])\n",
    "            elif line[2].isdigit() and line[0] in wires.keys():\n",
    "                wires[line[-1]] = AND(wires[line[0]], int(line[2]))\n",
    "            elif line[0].isdigit() and line[2].isdigit():\n",
    "                wires[line[-1]] = AND(int(line[0]), int(line[2]))\n",
    "            elif line[0] in wires.keys() and line[2] in wires.keys():\n",
    "                wires[line[-1]] = AND(wires[line[0]], wires[line[2]])\n",
    "            else:\n",
    "                next_round.append(line)\n",
    "        elif line[1] == 'OR':\n",
    "            if line[0].isdigit() and line[2] in wires.keys():\n",
    "                wires[line[-1]] = OR(int(line[0]), wires[line[2]])\n",
    "            elif line[2].isdigit() and line[0] in wires.keys():\n",
    "                wires[line[-1]] = OR(wires[line[0]], int(line[2]))\n",
    "            elif line[0].isdigit() and line[2].isdigit():\n",
    "                wires[line[-1]] = OR(int(line[0]), int(line[2]))\n",
    "            elif line[0] in wires.keys() and line[2] in wires.keys():\n",
    "                wires[line[-1]] = OR(wires[line[0]], wires[line[2]])\n",
    "            else:\n",
    "                next_round.append(line)\n",
    "        elif line[1] == 'LSHIFT':\n",
    "            if line[0] in wires.keys():\n",
    "                wires[line[-1]] = LSHIFT(wires[line[0]], int(line[2]))\n",
    "            else:\n",
    "                next_round.append(line)\n",
    "        elif line[1] == 'RSHIFT':\n",
    "            if line[0] in wires.keys():\n",
    "                wires[line[-1]] = wires[line[0]] >> int(line[2])\n",
    "            else:\n",
    "                next_round.append(line)\n",
    "        \n",
    "wires['a']\n"
   ]
  }
 ],
 "metadata": {
  "kernelspec": {
   "display_name": "Python 3",
   "language": "python",
   "name": "python3"
  },
  "language_info": {
   "codemirror_mode": {
    "name": "ipython",
    "version": 3
   },
   "file_extension": ".py",
   "mimetype": "text/x-python",
   "name": "python",
   "nbconvert_exporter": "python",
   "pygments_lexer": "ipython3",
   "version": "3.11.6"
  }
 },
 "nbformat": 4,
 "nbformat_minor": 2
}
